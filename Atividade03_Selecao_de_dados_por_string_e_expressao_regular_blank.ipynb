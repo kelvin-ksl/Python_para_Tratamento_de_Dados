{
 "cells": [
  {
   "cell_type": "markdown",
   "id": "46b7f24c",
   "metadata": {
    "id": "46b7f24c"
   },
   "source": [
    "# Atividade de Pandas -\n",
    "#### Conteúdo: \n",
    "- Seleção de Dados por String\n",
    "- Expressão regular\n"
   ]
  },
  {
   "cell_type": "markdown",
   "id": "1a9072f6",
   "metadata": {
    "id": "1a9072f6"
   },
   "source": [
    "**1. Escreva um programa usando Pandas que adicione zeros à erqueda matendo todos os dados com até 8 dígitos**\n",
    "```\n",
    "Original dataframe:\n",
    "   amount\n",
    "0      10\n",
    "1     250\n",
    "2    3000\n",
    "3   40000\n",
    "4  500000\n",
    "\n",
    "Add leading zeros:\n",
    "     amount\n",
    "0  00000010\n",
    "1  00000250\n",
    "2  00003000\n",
    "3  00040000\n",
    "\n",
    "```"
   ]
  },
  {
   "cell_type": "code",
   "execution_count": 36,
   "id": "b84846b9",
   "metadata": {
    "ExecuteTime": {
     "end_time": "2022-06-29T17:17:09.528560Z",
     "start_time": "2022-06-29T17:17:08.858544Z"
    },
    "id": "b84846b9"
   },
   "outputs": [],
   "source": [
    "import pandas as pd\n",
    "import numpy as np\n",
    "data = ['10', '250', '3000', '40000', '500000']\n",
    "df = pd.Series(data)\n"
   ]
  },
  {
   "cell_type": "code",
   "execution_count": 32,
   "id": "acW0AmP9zaef",
   "metadata": {
    "colab": {
     "base_uri": "https://localhost:8080/"
    },
    "id": "acW0AmP9zaef",
    "outputId": "e4f23fb8-2d8d-4032-b436-ed9b137cbb70"
   },
   "outputs": [
    {
     "data": {
      "text/plain": [
       "0    00000010\n",
       "1    00000250\n",
       "2    00003000\n",
       "3    00040000\n",
       "4    00500000\n",
       "dtype: object"
      ]
     },
     "execution_count": 32,
     "metadata": {},
     "output_type": "execute_result"
    }
   ],
   "source": [
    "df.str.zfill(8)"
   ]
  },
  {
   "cell_type": "markdown",
   "id": "fd7c80af",
   "metadata": {
    "ExecuteTime": {
     "end_time": "2022-06-29T17:19:01.007069Z",
     "start_time": "2022-06-29T17:19:01.000052Z"
    },
    "id": "fd7c80af"
   },
   "source": [
    "**2. Escreva um programa usando Pandas que irá remover os espaços em branco, à esquerda, à direita e ambos**\n",
    "```\n",
    "Original series:\n",
    "Index([' Green', 'Black ', ' Red ', 'White', ' Pink '], dtype='object')\n",
    "\n",
    "Remove whitespace\n",
    "Index(['Green', 'Black', 'Red', 'White', 'Pink'], dtype='object')\n",
    "\n",
    "Remove left sided whitespace\n",
    "Index(['Green', 'Black ', 'Red ', 'White', 'Pink '], dtype='object')\n",
    "\n",
    "Remove Right sided whitespace\n",
    "Index([' Green', 'Black', ' Red', 'White', ' Pink'], dtype='object')\n",
    "```"
   ]
  },
  {
   "cell_type": "code",
   "execution_count": 9,
   "id": "b2c1bf64",
   "metadata": {
    "ExecuteTime": {
     "end_time": "2022-06-29T17:19:53.906036Z",
     "start_time": "2022-06-29T17:19:53.894036Z"
    },
    "id": "b2c1bf64"
   },
   "outputs": [],
   "source": [
    "#df = pd.Series([' Green', 'Black', ' Red', 'White', ' Pink'])\n",
    "df.index = [' Green', 'Black ', ' Red ', 'White', ' Pink ']"
   ]
  },
  {
   "cell_type": "code",
   "execution_count": 10,
   "id": "1QOAWtCq2DH3",
   "metadata": {
    "colab": {
     "base_uri": "https://localhost:8080/"
    },
    "id": "1QOAWtCq2DH3",
    "outputId": "e4db4af4-a674-4263-95bf-5a9560830813"
   },
   "outputs": [
    {
     "name": "stdout",
     "output_type": "stream",
     "text": [
      "Remove whitespace:  Index(['Green', 'Black', 'Red', 'White', 'Pink'], dtype='object')\n"
     ]
    }
   ],
   "source": [
    "print('Remove whitespace: ', df.index.str.strip())"
   ]
  },
  {
   "cell_type": "code",
   "execution_count": 39,
   "id": "RoxlX-jf3YPe",
   "metadata": {
    "colab": {
     "base_uri": "https://localhost:8080/"
    },
    "id": "RoxlX-jf3YPe",
    "outputId": "b7d4af63-5a0e-40c4-c968-5c9d2eed4875"
   },
   "outputs": [
    {
     "name": "stdout",
     "output_type": "stream",
     "text": [
      "Remove left sided whitespace:  Index(['Green', 'Black ', 'Red ', 'White', 'Pink '], dtype='object')\n"
     ]
    }
   ],
   "source": [
    "print('Remove left sided whitespace: ', df.index.str.lstrip())"
   ]
  },
  {
   "cell_type": "code",
   "execution_count": 40,
   "id": "Sk0MZmVO3hVa",
   "metadata": {
    "colab": {
     "base_uri": "https://localhost:8080/"
    },
    "id": "Sk0MZmVO3hVa",
    "outputId": "e3d9988b-7c11-4de1-befb-72bbe8470252"
   },
   "outputs": [
    {
     "name": "stdout",
     "output_type": "stream",
     "text": [
      "Remove Right sided whitespace:  Index([' Green', 'Black', ' Red', 'White', ' Pink'], dtype='object')\n"
     ]
    }
   ],
   "source": [
    "print('Remove Right sided whitespace: ', df.index.str.rstrip())"
   ]
  },
  {
   "cell_type": "markdown",
   "id": "cee595ff",
   "metadata": {
    "id": "cee595ff"
   },
   "source": [
    "**3. Escreva um programa usando Pandas que converte dados de string para maísculo para mínúsculo e apresenta o tamanho de cada string**\n",
    "```\n",
    "Original series:\n",
    "0         X\n",
    "1         Y\n",
    "2         Z\n",
    "3      Aaba\n",
    "4      Baca\n",
    "5       NaN\n",
    "6      CABA\n",
    "7      None\n",
    "8      bird\n",
    "9     horse\n",
    "10      dog\n",
    "dtype: object\n",
    "\n",
    "Convert all string values of the said Series to upper case:\n",
    "0         X\n",
    "1         Y\n",
    "2         Z\n",
    "3      AABA\n",
    "4      BACA\n",
    "5       NaN\n",
    "6      CABA\n",
    "7      None\n",
    "8      BIRD\n",
    "9     HORSE\n",
    "10      DOG\n",
    "dtype: object\n",
    "\n",
    "Convert all string values of the said Series to lower case:\n",
    "0         x\n",
    "1         y\n",
    "2         z\n",
    "3      aaba\n",
    "4      baca\n",
    "5       NaN\n",
    "6      caba\n",
    "7      None\n",
    "8      bird\n",
    "9     horse\n",
    "10      dog\n",
    "dtype: object\n",
    "\n",
    "Length of the string values of the said Series:\n",
    "0     1.0\n",
    "1     1.0\n",
    "2     1.0\n",
    "3     4.0\n",
    "4     4.0\n",
    "5     NaN\n",
    "6     4.0\n",
    "7     NaN\n",
    "8     4.0\n",
    "9     5.0\n",
    "10    3.0\n",
    "dtype: float64  \n",
    "```"
   ]
  },
  {
   "cell_type": "code",
   "execution_count": 37,
   "id": "8ea17db8",
   "metadata": {
    "ExecuteTime": {
     "end_time": "2022-06-29T17:28:55.019212Z",
     "start_time": "2022-06-29T17:28:55.001212Z"
    },
    "id": "8ea17db8"
   },
   "outputs": [],
   "source": [
    "df = pd.Series(['X', 'Y', 'Z', 'Aaba', 'Baca', np.nan, 'CABA', None, 'bird', 'horse', 'dog'])"
   ]
  },
  {
   "cell_type": "code",
   "execution_count": 38,
   "id": "2268332c",
   "metadata": {},
   "outputs": [
    {
     "name": "stdout",
     "output_type": "stream",
     "text": [
      "Original series:\n",
      "0         X\n",
      "1         Y\n",
      "2         Z\n",
      "3      Aaba\n",
      "4      Baca\n",
      "5       NaN\n",
      "6      CABA\n",
      "7      None\n",
      "8      bird\n",
      "9     horse\n",
      "10      dog\n",
      "dtype: object\n"
     ]
    }
   ],
   "source": [
    "print(\"Original series:\")\n",
    "print(df)"
   ]
  },
  {
   "cell_type": "code",
   "execution_count": 40,
   "id": "e13ee72b",
   "metadata": {},
   "outputs": [
    {
     "name": "stdout",
     "output_type": "stream",
     "text": [
      "\n",
      "Convert all string values of the said Series to upper case:\n",
      "0         X\n",
      "1         Y\n",
      "2         Z\n",
      "3      AABA\n",
      "4      BACA\n",
      "5       NaN\n",
      "6      CABA\n",
      "7      None\n",
      "8      BIRD\n",
      "9     HORSE\n",
      "10      DOG\n",
      "dtype: object\n"
     ]
    }
   ],
   "source": [
    "print(\"\\nConvert all string values of the said Series to upper case:\")\n",
    "print(df.str.upper())"
   ]
  },
  {
   "cell_type": "code",
   "execution_count": 41,
   "id": "1a06c489",
   "metadata": {},
   "outputs": [
    {
     "name": "stdout",
     "output_type": "stream",
     "text": [
      "\n",
      "Convert all string values of the said Series to lower case:\n",
      "0         x\n",
      "1         y\n",
      "2         z\n",
      "3      aaba\n",
      "4      baca\n",
      "5       NaN\n",
      "6      caba\n",
      "7      None\n",
      "8      bird\n",
      "9     horse\n",
      "10      dog\n",
      "dtype: object\n"
     ]
    }
   ],
   "source": [
    "print(\"\\nConvert all string values of the said Series to lower case:\")\n",
    "print(df.str.lower())"
   ]
  },
  {
   "cell_type": "code",
   "execution_count": 42,
   "id": "283b162f",
   "metadata": {},
   "outputs": [
    {
     "name": "stdout",
     "output_type": "stream",
     "text": [
      "\n",
      "Length of the string values of the said Series:\n",
      "0     1.0\n",
      "1     1.0\n",
      "2     1.0\n",
      "3     4.0\n",
      "4     4.0\n",
      "5     NaN\n",
      "6     4.0\n",
      "7     NaN\n",
      "8     4.0\n",
      "9     5.0\n",
      "10    3.0\n",
      "dtype: float64\n"
     ]
    }
   ],
   "source": [
    "print(\"\\nLength of the string values of the said Series:\")\n",
    "print(df.str.len()) "
   ]
  },
  {
   "cell_type": "markdown",
   "id": "fdfc74e9",
   "metadata": {
    "id": "fdfc74e9"
   },
   "source": [
    "**4. Escreva um programa usando Pandas que conte a ocorrência de uma string em uma coluna de um dataframe**\n",
    "```\n",
    "Original DataFrame:\n",
    "  name_code date_of_birth    age\n",
    "0      c001     12/05/2002  18.5\n",
    "1      c002     16/02/1999  21.2\n",
    "2      c022     25/09/1998  22.5\n",
    "3     c2002     12/02/2022  22.0\n",
    "4     c2222     15/09/1997  23.0\n",
    "\n",
    "Count occurrence of 2 in date_of_birth column:\n",
    "  name_code date_of_birth    age  count\n",
    "0      c001     12/05/2002  18.5      0\n",
    "1      c002     16/02/1999  21.2      1\n",
    "2      c022     25/09/1998  22.5      2\n",
    "3     c2002     12/02/2022  22.0      2\n",
    "4     c2222     15/09/1997  23.0      4\n",
    "```"
   ]
  },
  {
   "cell_type": "code",
   "execution_count": 43,
   "id": "0d0f0134",
   "metadata": {},
   "outputs": [],
   "source": [
    "df = pd.DataFrame({\n",
    "    'name_code': ['c001','c002','c022', 'c2002', 'c2222'],\n",
    "    'date_of_birth ': ['12/05/2002','16/02/1999','25/09/1998','12/02/2022','15/09/1997'],\n",
    "    'age': [18.5, 21.2, 22.5, 22, 23]\n",
    "})"
   ]
  },
  {
   "cell_type": "code",
   "execution_count": 44,
   "id": "4765c4f1",
   "metadata": {
    "ExecuteTime": {
     "end_time": "2022-06-29T17:27:36.832646Z",
     "start_time": "2022-06-29T17:27:36.816644Z"
    },
    "id": "4765c4f1"
   },
   "outputs": [
    {
     "name": "stdout",
     "output_type": "stream",
     "text": [
      "Original DataFrame:\n",
      "  name_code date_of_birth    age\n",
      "0      c001     12/05/2002  18.5\n",
      "1      c002     16/02/1999  21.2\n",
      "2      c022     25/09/1998  22.5\n",
      "3     c2002     12/02/2022  22.0\n",
      "4     c2222     15/09/1997  23.0\n",
      "\n",
      "Count occurrence of 2 in date_of_birth column:\n",
      "  name_code date_of_birth    age  count\n",
      "0      c001     12/05/2002  18.5      0\n",
      "1      c002     16/02/1999  21.2      1\n",
      "2      c022     25/09/1998  22.5      2\n",
      "3     c2002     12/02/2022  22.0      2\n",
      "4     c2222     15/09/1997  23.0      4\n"
     ]
    }
   ],
   "source": [
    "print(\"Original DataFrame:\")\n",
    "print(df)\n",
    "print(\"\\nCount occurrence of 2 in date_of_birth column:\")\n",
    "df['count'] = list(map(lambda x: x.count(\"2\"), df['name_code']))\n",
    "print(df)"
   ]
  },
  {
   "cell_type": "markdown",
   "id": "48830f68",
   "metadata": {
    "id": "48830f68"
   },
   "source": [
    "**5. Escreva um programa usando Pandas que verifica se duas palavras estão presente em uma coluna específica de um dataframe**\n",
    "```\n",
    "Original DataFrame:\n",
    "  company_code                   address\n",
    "0        c0001          9910 Surrey Ave.\n",
    "1        c0002         92 N. Bishop Ave.\n",
    "2        c0003     9910 Golden Star Ave.\n",
    "3        c0003            102 Dunbar St.\n",
    "4        c0004  17 West Livingston Court\n",
    "\n",
    "Present two words!\n",
    "  company_code                   address        check_two_words\n",
    "0        c0001          9910 Surrey Ave.       9910 Surrey Ave.\n",
    "1        c0002         92 N. Bishop Ave.                       \n",
    "2        c0003     9910 Golden Star Ave.  9910 Golden Star Ave.\n",
    "3        c0003            102 Dunbar St.                       \n",
    "4        c0004  17 West Livingston Court \n",
    "```"
   ]
  },
  {
   "cell_type": "code",
   "execution_count": 45,
   "id": "2daefd25",
   "metadata": {
    "ExecuteTime": {
     "end_time": "2022-06-29T17:26:20.864130Z",
     "start_time": "2022-06-29T17:26:20.848858Z"
    },
    "id": "2daefd25"
   },
   "outputs": [],
   "source": [
    "import re as re\n",
    "pd.set_option('display.max_columns', 10)\n",
    "df = pd.DataFrame({\n",
    "    'company_code': ['c0001','c0002','c0003', 'c0003', 'c0004'],\n",
    "    'address': ['9910 Surrey Ave.','92 N. Bishop Ave.','9910 Golden Star Ave.', '102 Dunbar St.', '17 West Livingston Court']\n",
    "    })"
   ]
  },
  {
   "cell_type": "code",
   "execution_count": 46,
   "id": "38981a47",
   "metadata": {
    "id": "38981a47"
   },
   "outputs": [
    {
     "name": "stdout",
     "output_type": "stream",
     "text": [
      "Original DataFrame:\n",
      "  company_code                   address\n",
      "0        c0001          9910 Surrey Ave.\n",
      "1        c0002         92 N. Bishop Ave.\n",
      "2        c0003     9910 Golden Star Ave.\n",
      "3        c0003            102 Dunbar St.\n",
      "4        c0004  17 West Livingston Court\n"
     ]
    }
   ],
   "source": [
    "print(\"Original DataFrame:\")\n",
    "print(df)"
   ]
  },
  {
   "cell_type": "code",
   "execution_count": 47,
   "id": "92fceaee",
   "metadata": {},
   "outputs": [
    {
     "name": "stdout",
     "output_type": "stream",
     "text": [
      "\n",
      "Present two words!\n",
      "  company_code                   address        check_two_words\n",
      "0        c0001          9910 Surrey Ave.       9910 Surrey Ave.\n",
      "1        c0002         92 N. Bishop Ave.                       \n",
      "2        c0003     9910 Golden Star Ave.  9910 Golden Star Ave.\n",
      "3        c0003            102 Dunbar St.                       \n",
      "4        c0004  17 West Livingston Court                       \n"
     ]
    }
   ],
   "source": [
    "def test_and_cond(text):\n",
    "    result = re.findall(r'(?=.*Ave.)(?=.*9910).*', text) \n",
    "    return \" \".join(result)\n",
    "df['check_two_words']=df['address'].apply(lambda x : test_and_cond(x))\n",
    "print(\"\\nPresent two words!\")\n",
    "print(df)\n"
   ]
  },
  {
   "cell_type": "code",
   "execution_count": null,
   "id": "bd16e22c",
   "metadata": {},
   "outputs": [],
   "source": []
  }
 ],
 "metadata": {
  "colab": {
   "name": "Atividade03. Selecao_de_dados_por_string_e_expressao_regular_blank.ipynb",
   "provenance": []
  },
  "kernelspec": {
   "display_name": "Python 3 (ipykernel)",
   "language": "python",
   "name": "python3"
  },
  "language_info": {
   "codemirror_mode": {
    "name": "ipython",
    "version": 3
   },
   "file_extension": ".py",
   "mimetype": "text/x-python",
   "name": "python",
   "nbconvert_exporter": "python",
   "pygments_lexer": "ipython3",
   "version": "3.9.12"
  }
 },
 "nbformat": 4,
 "nbformat_minor": 5
}
