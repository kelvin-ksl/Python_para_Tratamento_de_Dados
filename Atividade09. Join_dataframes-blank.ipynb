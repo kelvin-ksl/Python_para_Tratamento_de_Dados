{
 "cells": [
  {
   "cell_type": "markdown",
   "id": "390a60d5",
   "metadata": {
    "ExecuteTime": {
     "end_time": "2022-06-29T13:04:38.706092Z",
     "start_time": "2022-06-29T13:04:38.361470Z"
    }
   },
   "source": [
    "# Atividade de Pandas -\n",
    "#### Conteúdo: \n",
    "- Join"
   ]
  },
  {
   "cell_type": "markdown",
   "id": "ab1d3baa",
   "metadata": {
    "ExecuteTime": {
     "end_time": "2022-06-29T13:05:11.078180Z",
     "start_time": "2022-06-29T13:05:11.074184Z"
    }
   },
   "source": [
    "**1) Escreva um programa usando pandas que irá fazer a juntar/concatenar os dois dataframes: um abaixo do outro**"
   ]
  },
  {
   "cell_type": "code",
   "execution_count": null,
   "id": "6e2f1da4",
   "metadata": {
    "ExecuteTime": {
     "end_time": "2022-06-29T13:06:16.256051Z",
     "start_time": "2022-06-29T13:06:16.252049Z"
    }
   },
   "outputs": [],
   "source": [
    "'''\n",
    "d1:\n",
    "student_data1:\n",
    "  student_id              name  marks\n",
    "0         S1  Danniella Fenton    200\n",
    "1         S2      Ryder Storey    210\n",
    "2         S3      Bryce Jensen    190\n",
    "3         S4         Ed Bernal    222\n",
    "4         S5       Kwame Morin    199\n",
    "\n",
    "\n",
    "df2:\n",
    "  student_id              name  marks\n",
    "0         S4  Scarlette Fisher    201\n",
    "1         S5  Carla Williamson    200\n",
    "2         S6       Dante Morse    198\n",
    "3         S7    Kaiser William    219\n",
    "4         S8   Madeeha Preston    201\n",
    "'''"
   ]
  },
  {
   "cell_type": "code",
   "execution_count": 6,
   "id": "7aaa3ac9",
   "metadata": {
    "ExecuteTime": {
     "end_time": "2022-06-29T13:07:07.691370Z",
     "start_time": "2022-06-29T13:07:07.037372Z"
    }
   },
   "outputs": [],
   "source": [
    "import pandas as pd\n",
    "\n",
    "df1 = pd.DataFrame({\n",
    "        'id': ['id1', 'id2', 'id3', 'id4', 'id5'],\n",
    "        'nome': ['Kelvin Sampaio', 'Roberto', 'Ana Julia', 'Bolsonaro', 'Lula'], \n",
    "        'idade': [23, 21, 19, 46, 51]})\n",
    "\n",
    "df2 = pd.DataFrame({\n",
    "        'id': ['id1', 'id2', 'id3', 'id4', 'id5'],\n",
    "        'nome': ['Dunha', 'Fulano', 'Ciclano', 'Beltrano', 'seila'], \n",
    "        'Curso': ['ADS', 'ADM', 'MSI', 'GPI', 'AGRO']})"
   ]
  },
  {
   "cell_type": "code",
   "execution_count": 7,
   "id": "3ba0595a",
   "metadata": {},
   "outputs": [],
   "source": [
    "def data():\n",
    "    print(\"DataFrame 1:\")\n",
    "    print(df1)\n",
    "    print(\"-------------------------------------\")\n",
    "    print(\"DataFrame 2:\")\n",
    "    print(df2)\n",
    "    print('\\nMesclagem:')"
   ]
  },
  {
   "cell_type": "code",
   "execution_count": 8,
   "id": "451c9233",
   "metadata": {},
   "outputs": [
    {
     "name": "stdout",
     "output_type": "stream",
     "text": [
      "DataFrame 1:\n",
      "    id            nome  idade\n",
      "0  id1  Kelvin Sampaio     23\n",
      "1  id2         Roberto     21\n",
      "2  id3       Ana Julia     19\n",
      "3  id4       Bolsonaro     46\n",
      "4  id5            Lula     51\n",
      "-------------------------------------\n",
      "DataFrame 2:\n",
      "    id      nome Curso\n",
      "0  id1     Dunha   ADS\n",
      "1  id2    Fulano   ADM\n",
      "2  id3   Ciclano   MSI\n",
      "3  id4  Beltrano   GPI\n",
      "4  id5     seila  AGRO\n",
      "\n",
      "Mesclagem:\n",
      "    id            nome  idade Curso\n",
      "0  id1  Kelvin Sampaio   23.0   NaN\n",
      "1  id2         Roberto   21.0   NaN\n",
      "2  id3       Ana Julia   19.0   NaN\n",
      "3  id4       Bolsonaro   46.0   NaN\n",
      "4  id5            Lula   51.0   NaN\n",
      "0  id1           Dunha    NaN   ADS\n",
      "1  id2          Fulano    NaN   ADM\n",
      "2  id3         Ciclano    NaN   MSI\n",
      "3  id4        Beltrano    NaN   GPI\n",
      "4  id5           seila    NaN  AGRO\n"
     ]
    }
   ],
   "source": [
    "data()\n",
    "mesclagem = pd.concat([df1, df2])\n",
    "print(mesclagem)"
   ]
  },
  {
   "cell_type": "markdown",
   "id": "8bbcc7c5",
   "metadata": {},
   "source": [
    "**2) Escreva um programa usando pandas que irá fazer a concatenação dos dois dataframes: um ao lado do outro**"
   ]
  },
  {
   "cell_type": "code",
   "execution_count": 9,
   "id": "e88ce86f",
   "metadata": {
    "ExecuteTime": {
     "end_time": "2022-06-29T13:09:41.500815Z",
     "start_time": "2022-06-29T13:09:41.487820Z"
    }
   },
   "outputs": [
    {
     "data": {
      "text/plain": [
       "'\\nd1:\\nstudent_data1:\\n  student_id              name  marks\\n0         S1  Danniella Fenton    200\\n1         S2      Ryder Storey    210\\n2         S3      Bryce Jensen    190\\n3         S4         Ed Bernal    222\\n4         S5       Kwame Morin    199\\n\\n\\ndf2:\\n  student_id              name  marks\\n0         S4  Scarlette Fisher    201\\n1         S5  Carla Williamson    200\\n2         S6       Dante Morse    198\\n3         S7    Kaiser William    219\\n4         S8   Madeeha Preston    201\\n'"
      ]
     },
     "execution_count": 9,
     "metadata": {},
     "output_type": "execute_result"
    }
   ],
   "source": [
    "'''\n",
    "d1:\n",
    "student_data1:\n",
    "  student_id              name  marks\n",
    "0         S1  Danniella Fenton    200\n",
    "1         S2      Ryder Storey    210\n",
    "2         S3      Bryce Jensen    190\n",
    "3         S4         Ed Bernal    222\n",
    "4         S5       Kwame Morin    199\n",
    "\n",
    "\n",
    "df2:\n",
    "  student_id              name  marks\n",
    "0         S4  Scarlette Fisher    201\n",
    "1         S5  Carla Williamson    200\n",
    "2         S6       Dante Morse    198\n",
    "3         S7    Kaiser William    219\n",
    "4         S8   Madeeha Preston    201\n",
    "'''"
   ]
  },
  {
   "cell_type": "code",
   "execution_count": 10,
   "id": "487c460e",
   "metadata": {},
   "outputs": [
    {
     "name": "stdout",
     "output_type": "stream",
     "text": [
      "DataFrame 1:\n",
      "    id            nome  idade\n",
      "0  id1  Kelvin Sampaio     23\n",
      "1  id2         Roberto     21\n",
      "2  id3       Ana Julia     19\n",
      "3  id4       Bolsonaro     46\n",
      "4  id5            Lula     51\n",
      "-------------------------------------\n",
      "DataFrame 2:\n",
      "    id      nome Curso\n",
      "0  id1     Dunha   ADS\n",
      "1  id2    Fulano   ADM\n",
      "2  id3   Ciclano   MSI\n",
      "3  id4  Beltrano   GPI\n",
      "4  id5     seila  AGRO\n",
      "\n",
      "Mesclagem:\n"
     ]
    },
    {
     "data": {
      "text/html": [
       "<div>\n",
       "<style scoped>\n",
       "    .dataframe tbody tr th:only-of-type {\n",
       "        vertical-align: middle;\n",
       "    }\n",
       "\n",
       "    .dataframe tbody tr th {\n",
       "        vertical-align: top;\n",
       "    }\n",
       "\n",
       "    .dataframe thead th {\n",
       "        text-align: right;\n",
       "    }\n",
       "</style>\n",
       "<table border=\"1\" class=\"dataframe\">\n",
       "  <thead>\n",
       "    <tr style=\"text-align: right;\">\n",
       "      <th></th>\n",
       "      <th>id</th>\n",
       "      <th>nome</th>\n",
       "      <th>idade</th>\n",
       "      <th>id</th>\n",
       "      <th>nome</th>\n",
       "      <th>Curso</th>\n",
       "    </tr>\n",
       "  </thead>\n",
       "  <tbody>\n",
       "    <tr>\n",
       "      <th>0</th>\n",
       "      <td>id1</td>\n",
       "      <td>Kelvin Sampaio</td>\n",
       "      <td>23</td>\n",
       "      <td>id1</td>\n",
       "      <td>Dunha</td>\n",
       "      <td>ADS</td>\n",
       "    </tr>\n",
       "    <tr>\n",
       "      <th>1</th>\n",
       "      <td>id2</td>\n",
       "      <td>Roberto</td>\n",
       "      <td>21</td>\n",
       "      <td>id2</td>\n",
       "      <td>Fulano</td>\n",
       "      <td>ADM</td>\n",
       "    </tr>\n",
       "    <tr>\n",
       "      <th>2</th>\n",
       "      <td>id3</td>\n",
       "      <td>Ana Julia</td>\n",
       "      <td>19</td>\n",
       "      <td>id3</td>\n",
       "      <td>Ciclano</td>\n",
       "      <td>MSI</td>\n",
       "    </tr>\n",
       "    <tr>\n",
       "      <th>3</th>\n",
       "      <td>id4</td>\n",
       "      <td>Bolsonaro</td>\n",
       "      <td>46</td>\n",
       "      <td>id4</td>\n",
       "      <td>Beltrano</td>\n",
       "      <td>GPI</td>\n",
       "    </tr>\n",
       "    <tr>\n",
       "      <th>4</th>\n",
       "      <td>id5</td>\n",
       "      <td>Lula</td>\n",
       "      <td>51</td>\n",
       "      <td>id5</td>\n",
       "      <td>seila</td>\n",
       "      <td>AGRO</td>\n",
       "    </tr>\n",
       "  </tbody>\n",
       "</table>\n",
       "</div>"
      ],
      "text/plain": [
       "    id            nome  idade   id      nome Curso\n",
       "0  id1  Kelvin Sampaio     23  id1     Dunha   ADS\n",
       "1  id2         Roberto     21  id2    Fulano   ADM\n",
       "2  id3       Ana Julia     19  id3   Ciclano   MSI\n",
       "3  id4       Bolsonaro     46  id4  Beltrano   GPI\n",
       "4  id5            Lula     51  id5     seila  AGRO"
      ]
     },
     "execution_count": 10,
     "metadata": {},
     "output_type": "execute_result"
    }
   ],
   "source": [
    "data()\n",
    "mesclagem = pd.concat([df1, df2], axis=1)\n",
    "mesclagem\n"
   ]
  },
  {
   "cell_type": "markdown",
   "id": "bb565195",
   "metadata": {},
   "source": [
    "**3) Escreva um programa usando pandas que irá fazer uma junção usando as colunas em comuns entre os dois dataframes**"
   ]
  },
  {
   "cell_type": "code",
   "execution_count": 11,
   "id": "61998f35",
   "metadata": {
    "ExecuteTime": {
     "end_time": "2022-06-29T13:13:07.054283Z",
     "start_time": "2022-06-29T13:13:07.048292Z"
    }
   },
   "outputs": [
    {
     "data": {
      "text/plain": [
       "'\\nd1:\\nstudent_data1:\\n  student_id              name  marks\\n0         S1  Danniella Fenton    200\\n1         S2      Ryder Storey    210\\n2         S3      Bryce Jensen    190\\n3         S4         Ed Bernal    222\\n4         S5       Kwame Morin    199\\n\\n\\ndf2:\\n  student_id              name  marks\\n0         S4  Scarlette Fisher    201\\n1         S5  Carla Williamson    200\\n2         S6       Dante Morse    198\\n3         S7    Kaiser William    219\\n4         S8   Madeeha Preston    201\\n'"
      ]
     },
     "execution_count": 11,
     "metadata": {},
     "output_type": "execute_result"
    }
   ],
   "source": [
    "'''\n",
    "d1:\n",
    "student_data1:\n",
    "  student_id              name  marks\n",
    "0         S1  Danniella Fenton    200\n",
    "1         S2      Ryder Storey    210\n",
    "2         S3      Bryce Jensen    190\n",
    "3         S4         Ed Bernal    222\n",
    "4         S5       Kwame Morin    199\n",
    "\n",
    "\n",
    "df2:\n",
    "  student_id              name  marks\n",
    "0         S4  Scarlette Fisher    201\n",
    "1         S5  Carla Williamson    200\n",
    "2         S6       Dante Morse    198\n",
    "3         S7    Kaiser William    219\n",
    "4         S8   Madeeha Preston    201\n",
    "'''"
   ]
  },
  {
   "cell_type": "code",
   "execution_count": 16,
   "id": "fcb09ffe",
   "metadata": {
    "ExecuteTime": {
     "end_time": "2022-06-29T13:11:12.205998Z",
     "start_time": "2022-06-29T13:11:12.191447Z"
    }
   },
   "outputs": [
    {
     "name": "stdout",
     "output_type": "stream",
     "text": [
      "DataFrame 1:\n",
      "    id            nome  idade\n",
      "0  id1  Kelvin Sampaio     23\n",
      "1  id2         Roberto     21\n",
      "2  id3       Ana Julia     19\n",
      "3  id4       Bolsonaro     46\n",
      "4  id5            Lula     51\n",
      "-------------------------------------\n",
      "DataFrame 2:\n",
      "    id      nome Curso\n",
      "0  id1     Dunha   ADS\n",
      "1  id2    Fulano   ADM\n",
      "2  id3   Ciclano   MSI\n",
      "3  id4  Beltrano   GPI\n",
      "4  id5     seila  AGRO\n",
      "\n",
      "Mesclagem:\n"
     ]
    },
    {
     "data": {
      "text/html": [
       "<div>\n",
       "<style scoped>\n",
       "    .dataframe tbody tr th:only-of-type {\n",
       "        vertical-align: middle;\n",
       "    }\n",
       "\n",
       "    .dataframe tbody tr th {\n",
       "        vertical-align: top;\n",
       "    }\n",
       "\n",
       "    .dataframe thead th {\n",
       "        text-align: right;\n",
       "    }\n",
       "</style>\n",
       "<table border=\"1\" class=\"dataframe\">\n",
       "  <thead>\n",
       "    <tr style=\"text-align: right;\">\n",
       "      <th></th>\n",
       "      <th>id</th>\n",
       "      <th>nome_x</th>\n",
       "      <th>idade</th>\n",
       "      <th>nome_y</th>\n",
       "      <th>Curso</th>\n",
       "    </tr>\n",
       "  </thead>\n",
       "  <tbody>\n",
       "    <tr>\n",
       "      <th>0</th>\n",
       "      <td>id1</td>\n",
       "      <td>Kelvin Sampaio</td>\n",
       "      <td>23</td>\n",
       "      <td>Dunha</td>\n",
       "      <td>ADS</td>\n",
       "    </tr>\n",
       "    <tr>\n",
       "      <th>1</th>\n",
       "      <td>id2</td>\n",
       "      <td>Roberto</td>\n",
       "      <td>21</td>\n",
       "      <td>Fulano</td>\n",
       "      <td>ADM</td>\n",
       "    </tr>\n",
       "    <tr>\n",
       "      <th>2</th>\n",
       "      <td>id3</td>\n",
       "      <td>Ana Julia</td>\n",
       "      <td>19</td>\n",
       "      <td>Ciclano</td>\n",
       "      <td>MSI</td>\n",
       "    </tr>\n",
       "    <tr>\n",
       "      <th>3</th>\n",
       "      <td>id4</td>\n",
       "      <td>Bolsonaro</td>\n",
       "      <td>46</td>\n",
       "      <td>Beltrano</td>\n",
       "      <td>GPI</td>\n",
       "    </tr>\n",
       "    <tr>\n",
       "      <th>4</th>\n",
       "      <td>id5</td>\n",
       "      <td>Lula</td>\n",
       "      <td>51</td>\n",
       "      <td>seila</td>\n",
       "      <td>AGRO</td>\n",
       "    </tr>\n",
       "  </tbody>\n",
       "</table>\n",
       "</div>"
      ],
      "text/plain": [
       "    id          nome_x  idade    nome_y Curso\n",
       "0  id1  Kelvin Sampaio     23     Dunha   ADS\n",
       "1  id2         Roberto     21    Fulano   ADM\n",
       "2  id3       Ana Julia     19   Ciclano   MSI\n",
       "3  id4       Bolsonaro     46  Beltrano   GPI\n",
       "4  id5            Lula     51     seila  AGRO"
      ]
     },
     "execution_count": 16,
     "metadata": {},
     "output_type": "execute_result"
    }
   ],
   "source": [
    "data()\n",
    "\n",
    "mesclagem = pd.merge(df1, df2, on=['id'])\n",
    "\n",
    "mesclagem"
   ]
  },
  {
   "cell_type": "markdown",
   "id": "d4775767",
   "metadata": {},
   "source": [
    "**4) Escreva um programa usando pandas que irá fazer uma junção mantendo os registros correspondentes em ambos os dataframes**"
   ]
  },
  {
   "cell_type": "code",
   "execution_count": null,
   "id": "19e57a5a",
   "metadata": {
    "ExecuteTime": {
     "end_time": "2022-06-29T13:15:07.355375Z",
     "start_time": "2022-06-29T13:15:07.350370Z"
    }
   },
   "outputs": [],
   "source": [
    "'''\n",
    "d1:\n",
    "student_data1:\n",
    "  student_id              name  marks\n",
    "0         S1  Danniella Fenton    200\n",
    "1         S2      Ryder Storey    210\n",
    "2         S3      Bryce Jensen    190\n",
    "3         S4         Ed Bernal    222\n",
    "4         S5       Kwame Morin    199\n",
    "\n",
    "\n",
    "df2:\n",
    "  student_id              name  marks\n",
    "0         S4  Scarlette Fisher    201\n",
    "1         S5  Carla Williamson    200\n",
    "2         S6       Dante Morse    198\n",
    "3         S7    Kaiser William    219\n",
    "4         S8   Madeeha Preston    201\n",
    "'''"
   ]
  },
  {
   "cell_type": "code",
   "execution_count": 14,
   "id": "f08c7681",
   "metadata": {
    "ExecuteTime": {
     "end_time": "2022-06-29T13:15:12.303016Z",
     "start_time": "2022-06-29T13:15:12.282052Z"
    }
   },
   "outputs": [
    {
     "name": "stdout",
     "output_type": "stream",
     "text": [
      "DataFrame 1:\n",
      "    id            nome  idade\n",
      "0  id1  Kelvin Sampaio     23\n",
      "1  id2         Roberto     21\n",
      "2  id3       Ana Julia     19\n",
      "3  id4       Bolsonaro     46\n",
      "4  id5            Lula     51\n",
      "-------------------------------------\n",
      "DataFrame 2:\n",
      "    id      nome Curso\n",
      "0  id1     Dunha   ADS\n",
      "1  id2    Fulano   ADM\n",
      "2  id3   Ciclano   MSI\n",
      "3  id4  Beltrano   GPI\n",
      "4  id5     seila  AGRO\n",
      "\n",
      "Mesclagem:\n"
     ]
    },
    {
     "data": {
      "text/html": [
       "<div>\n",
       "<style scoped>\n",
       "    .dataframe tbody tr th:only-of-type {\n",
       "        vertical-align: middle;\n",
       "    }\n",
       "\n",
       "    .dataframe tbody tr th {\n",
       "        vertical-align: top;\n",
       "    }\n",
       "\n",
       "    .dataframe thead th {\n",
       "        text-align: right;\n",
       "    }\n",
       "</style>\n",
       "<table border=\"1\" class=\"dataframe\">\n",
       "  <thead>\n",
       "    <tr style=\"text-align: right;\">\n",
       "      <th></th>\n",
       "      <th>id</th>\n",
       "      <th>nome_x</th>\n",
       "      <th>idade</th>\n",
       "      <th>nome_y</th>\n",
       "      <th>Curso</th>\n",
       "    </tr>\n",
       "  </thead>\n",
       "  <tbody>\n",
       "    <tr>\n",
       "      <th>0</th>\n",
       "      <td>id1</td>\n",
       "      <td>Kelvin Sampaio</td>\n",
       "      <td>23</td>\n",
       "      <td>Dunha</td>\n",
       "      <td>ADS</td>\n",
       "    </tr>\n",
       "    <tr>\n",
       "      <th>1</th>\n",
       "      <td>id2</td>\n",
       "      <td>Roberto</td>\n",
       "      <td>21</td>\n",
       "      <td>Fulano</td>\n",
       "      <td>ADM</td>\n",
       "    </tr>\n",
       "    <tr>\n",
       "      <th>2</th>\n",
       "      <td>id3</td>\n",
       "      <td>Ana Julia</td>\n",
       "      <td>19</td>\n",
       "      <td>Ciclano</td>\n",
       "      <td>MSI</td>\n",
       "    </tr>\n",
       "    <tr>\n",
       "      <th>3</th>\n",
       "      <td>id4</td>\n",
       "      <td>Bolsonaro</td>\n",
       "      <td>46</td>\n",
       "      <td>Beltrano</td>\n",
       "      <td>GPI</td>\n",
       "    </tr>\n",
       "    <tr>\n",
       "      <th>4</th>\n",
       "      <td>id5</td>\n",
       "      <td>Lula</td>\n",
       "      <td>51</td>\n",
       "      <td>seila</td>\n",
       "      <td>AGRO</td>\n",
       "    </tr>\n",
       "  </tbody>\n",
       "</table>\n",
       "</div>"
      ],
      "text/plain": [
       "    id          nome_x  idade    nome_y Curso\n",
       "0  id1  Kelvin Sampaio     23     Dunha   ADS\n",
       "1  id2         Roberto     21    Fulano   ADM\n",
       "2  id3       Ana Julia     19   Ciclano   MSI\n",
       "3  id4       Bolsonaro     46  Beltrano   GPI\n",
       "4  id5            Lula     51     seila  AGRO"
      ]
     },
     "execution_count": 14,
     "metadata": {},
     "output_type": "execute_result"
    }
   ],
   "source": [
    "data()\n",
    "\n",
    "mesclagem = pd.merge(df1, df2, on=['id'])\n",
    "\n",
    "mesclagem"
   ]
  },
  {
   "cell_type": "markdown",
   "id": "42254bca",
   "metadata": {},
   "source": [
    "**5) Escreva um programa usando pandas que irá fazer uma junção mantendo os registros apenas do dataframe à esquerda**"
   ]
  },
  {
   "cell_type": "code",
   "execution_count": null,
   "id": "966c5439",
   "metadata": {
    "ExecuteTime": {
     "end_time": "2022-06-29T13:16:14.529146Z",
     "start_time": "2022-06-29T13:16:14.525146Z"
    }
   },
   "outputs": [],
   "source": [
    "'''\n",
    "data1:\n",
    "  key1 key2   P   Q\n",
    "0   K0   K0  P0  Q0\n",
    "1   K0   K1  P1  Q1\n",
    "2   K1   K0  P2  Q2\n",
    "3   K2   K1  P3  Q3\n",
    "data2:\n",
    "  key1 key2   R   S\n",
    "0   K0   K0  R0  S0\n",
    "1   K1   K0  R1  S1\n",
    "2   K1   K0  R2  S2\n",
    "3   K2   K0  R3  S3\n",
    "'''"
   ]
  },
  {
   "cell_type": "code",
   "execution_count": 33,
   "id": "b06855a7",
   "metadata": {
    "ExecuteTime": {
     "end_time": "2022-06-29T13:16:33.368663Z",
     "start_time": "2022-06-29T13:16:33.330615Z"
    }
   },
   "outputs": [],
   "source": [
    "esquerda = pd.DataFrame({'A': ['A0', 'A1', 'A2'],\n",
    "                        'B':['B0', 'B1','B2']},\n",
    "                       index=['K0', 'K1', 'K2'])\n",
    "\n",
    "direita = pd.DataFrame({'C': ['C0', 'C2', 'C3'],\n",
    "                        'D':['D0', 'D2','D3']},\n",
    "                      index=['K0', 'K2', 'K3'])\n"
   ]
  },
  {
   "cell_type": "code",
   "execution_count": 34,
   "id": "fed0e279",
   "metadata": {},
   "outputs": [
    {
     "data": {
      "text/html": [
       "<div>\n",
       "<style scoped>\n",
       "    .dataframe tbody tr th:only-of-type {\n",
       "        vertical-align: middle;\n",
       "    }\n",
       "\n",
       "    .dataframe tbody tr th {\n",
       "        vertical-align: top;\n",
       "    }\n",
       "\n",
       "    .dataframe thead th {\n",
       "        text-align: right;\n",
       "    }\n",
       "</style>\n",
       "<table border=\"1\" class=\"dataframe\">\n",
       "  <thead>\n",
       "    <tr style=\"text-align: right;\">\n",
       "      <th></th>\n",
       "      <th>A</th>\n",
       "      <th>B</th>\n",
       "      <th>C</th>\n",
       "      <th>D</th>\n",
       "    </tr>\n",
       "  </thead>\n",
       "  <tbody>\n",
       "    <tr>\n",
       "      <th>K0</th>\n",
       "      <td>A0</td>\n",
       "      <td>B0</td>\n",
       "      <td>C0</td>\n",
       "      <td>D0</td>\n",
       "    </tr>\n",
       "    <tr>\n",
       "      <th>K1</th>\n",
       "      <td>A1</td>\n",
       "      <td>B1</td>\n",
       "      <td>NaN</td>\n",
       "      <td>NaN</td>\n",
       "    </tr>\n",
       "    <tr>\n",
       "      <th>K2</th>\n",
       "      <td>A2</td>\n",
       "      <td>B2</td>\n",
       "      <td>C2</td>\n",
       "      <td>D2</td>\n",
       "    </tr>\n",
       "  </tbody>\n",
       "</table>\n",
       "</div>"
      ],
      "text/plain": [
       "     A   B    C    D\n",
       "K0  A0  B0   C0   D0\n",
       "K1  A1  B1  NaN  NaN\n",
       "K2  A2  B2   C2   D2"
      ]
     },
     "execution_count": 34,
     "metadata": {},
     "output_type": "execute_result"
    }
   ],
   "source": [
    "esquerda.join(direita)"
   ]
  },
  {
   "cell_type": "code",
   "execution_count": null,
   "id": "c5244ee6",
   "metadata": {},
   "outputs": [],
   "source": []
  }
 ],
 "metadata": {
  "kernelspec": {
   "display_name": "Python 3 (ipykernel)",
   "language": "python",
   "name": "python3"
  },
  "language_info": {
   "codemirror_mode": {
    "name": "ipython",
    "version": 3
   },
   "file_extension": ".py",
   "mimetype": "text/x-python",
   "name": "python",
   "nbconvert_exporter": "python",
   "pygments_lexer": "ipython3",
   "version": "3.9.12"
  }
 },
 "nbformat": 4,
 "nbformat_minor": 5
}
