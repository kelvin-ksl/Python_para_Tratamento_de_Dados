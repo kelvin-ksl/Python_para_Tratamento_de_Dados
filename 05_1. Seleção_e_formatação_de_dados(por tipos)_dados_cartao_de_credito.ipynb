{
 "cells": [
  {
   "cell_type": "markdown",
   "metadata": {},
   "source": [
    "# Exercício: Seleção de Dados \n",
    "<img src='https://pandas.pydata.org/docs/_images/03_subset_rows.svg'>\n",
    "\n",
    "- O que vamos fazer?\n",
    "    - Leitura de dados\n",
    "    - Formatação de dados \n",
    "    - Selecionar dados por tipos\n",
    "    - Reduzir uso de memória no dataframe"
   ]
  },
  {
   "cell_type": "code",
   "execution_count": 1,
   "metadata": {
    "ExecuteTime": {
     "end_time": "2022-08-08T13:19:07.484739Z",
     "start_time": "2022-08-08T13:19:04.200741Z"
    }
   },
   "outputs": [],
   "source": [
    "##### bibliotecas usadas\n",
    "import pandas as pd"
   ]
  },
  {
   "cell_type": "markdown",
   "metadata": {},
   "source": [
    "# 1. Leitura de dados\n",
    "\n",
    "- [Dataset original application_record.csv](https://www.kaggle.com/datasets/rikdifos/credit-card-approval-prediction?resource=download)\n",
    "- Dados para aprovação de crédito em cartão de credito\n",
    "    - ID - (category)\n",
    "    - CODE_GENDER - (category)\n",
    "    - FLAG_OWN_CAR - (boolean)\n",
    "    - FLAG_OWN_REALTY - (boolean)\n",
    "    - CNT_CHILDREN - (inteiro)\n",
    "    - AMT_INCOME_TOTAL (float)\n",
    "    - NAME_INCOME_TYPE (category)\n",
    "    - NAME_EDUCATION_TYPE - (category)\n",
    "    - NAME_FAMILY_STATUS - (category)\n",
    "    - NAME_HOUSING_TYPE - (category)\n",
    "    - DAYS_BIRTH - (Int)\n",
    "    - DAYS_EMPLOYED - (int)\n",
    "    - FLAG_MOBIL - (boolean)\n",
    "    - FLAG_WORK_PHONE - (boolean)\n",
    "    - FLAG_PHONE - (boolean)\n",
    "    - OCCUPATION_TYPE - (category)\n",
    "    - CNT_FAM_MEMBERS - int"
   ]
  },
  {
   "cell_type": "code",
   "execution_count": 2,
   "metadata": {
    "ExecuteTime": {
     "end_time": "2022-08-08T13:19:07.560740Z",
     "start_time": "2022-08-08T13:19:07.489741Z"
    }
   },
   "outputs": [],
   "source": [
    "filename = 'data/application_record.csv'\n",
    "df = pd.read_csv(filename, sep=',')"
   ]
  },
  {
   "cell_type": "code",
   "execution_count": 3,
   "metadata": {
    "ExecuteTime": {
     "end_time": "2022-08-08T13:19:07.680739Z",
     "start_time": "2022-08-08T13:19:07.563739Z"
    }
   },
   "outputs": [
    {
     "data": {
      "text/html": [
       "<div>\n",
       "<style scoped>\n",
       "    .dataframe tbody tr th:only-of-type {\n",
       "        vertical-align: middle;\n",
       "    }\n",
       "\n",
       "    .dataframe tbody tr th {\n",
       "        vertical-align: top;\n",
       "    }\n",
       "\n",
       "    .dataframe thead th {\n",
       "        text-align: right;\n",
       "    }\n",
       "</style>\n",
       "<table border=\"1\" class=\"dataframe\">\n",
       "  <thead>\n",
       "    <tr style=\"text-align: right;\">\n",
       "      <th></th>\n",
       "      <th>ID</th>\n",
       "      <th>CODE_GENDER</th>\n",
       "      <th>FLAG_OWN_CAR</th>\n",
       "      <th>FLAG_OWN_REALTY</th>\n",
       "      <th>CNT_CHILDREN</th>\n",
       "      <th>AMT_INCOME_TOTAL</th>\n",
       "      <th>NAME_INCOME_TYPE</th>\n",
       "      <th>NAME_EDUCATION_TYPE</th>\n",
       "      <th>NAME_FAMILY_STATUS</th>\n",
       "      <th>NAME_HOUSING_TYPE</th>\n",
       "      <th>DAYS_BIRTH</th>\n",
       "      <th>DAYS_EMPLOYED</th>\n",
       "      <th>FLAG_MOBIL</th>\n",
       "      <th>FLAG_WORK_PHONE</th>\n",
       "      <th>FLAG_PHONE</th>\n",
       "      <th>FLAG_EMAIL</th>\n",
       "      <th>OCCUPATION_TYPE</th>\n",
       "      <th>CNT_FAM_MEMBERS</th>\n",
       "    </tr>\n",
       "  </thead>\n",
       "  <tbody>\n",
       "    <tr>\n",
       "      <th>0</th>\n",
       "      <td>5008804</td>\n",
       "      <td>M</td>\n",
       "      <td>Y</td>\n",
       "      <td>Y</td>\n",
       "      <td>0</td>\n",
       "      <td>427500.0</td>\n",
       "      <td>Working</td>\n",
       "      <td>Higher education</td>\n",
       "      <td>Civil marriage</td>\n",
       "      <td>Rented apartment</td>\n",
       "      <td>-12005</td>\n",
       "      <td>-4542</td>\n",
       "      <td>1</td>\n",
       "      <td>1</td>\n",
       "      <td>0</td>\n",
       "      <td>0</td>\n",
       "      <td>NaN</td>\n",
       "      <td>2.0</td>\n",
       "    </tr>\n",
       "    <tr>\n",
       "      <th>1</th>\n",
       "      <td>5008805</td>\n",
       "      <td>M</td>\n",
       "      <td>Y</td>\n",
       "      <td>Y</td>\n",
       "      <td>0</td>\n",
       "      <td>427500.0</td>\n",
       "      <td>Working</td>\n",
       "      <td>Higher education</td>\n",
       "      <td>Civil marriage</td>\n",
       "      <td>Rented apartment</td>\n",
       "      <td>-12005</td>\n",
       "      <td>-4542</td>\n",
       "      <td>1</td>\n",
       "      <td>1</td>\n",
       "      <td>0</td>\n",
       "      <td>0</td>\n",
       "      <td>NaN</td>\n",
       "      <td>2.0</td>\n",
       "    </tr>\n",
       "    <tr>\n",
       "      <th>2</th>\n",
       "      <td>5008806</td>\n",
       "      <td>M</td>\n",
       "      <td>Y</td>\n",
       "      <td>Y</td>\n",
       "      <td>0</td>\n",
       "      <td>112500.0</td>\n",
       "      <td>Working</td>\n",
       "      <td>Secondary / secondary special</td>\n",
       "      <td>Married</td>\n",
       "      <td>House / apartment</td>\n",
       "      <td>-21474</td>\n",
       "      <td>-1134</td>\n",
       "      <td>1</td>\n",
       "      <td>0</td>\n",
       "      <td>0</td>\n",
       "      <td>0</td>\n",
       "      <td>Security staff</td>\n",
       "      <td>2.0</td>\n",
       "    </tr>\n",
       "    <tr>\n",
       "      <th>3</th>\n",
       "      <td>5008808</td>\n",
       "      <td>F</td>\n",
       "      <td>N</td>\n",
       "      <td>Y</td>\n",
       "      <td>0</td>\n",
       "      <td>270000.0</td>\n",
       "      <td>Commercial associate</td>\n",
       "      <td>Secondary / secondary special</td>\n",
       "      <td>Single / not married</td>\n",
       "      <td>House / apartment</td>\n",
       "      <td>-19110</td>\n",
       "      <td>-3051</td>\n",
       "      <td>1</td>\n",
       "      <td>0</td>\n",
       "      <td>1</td>\n",
       "      <td>1</td>\n",
       "      <td>Sales staff</td>\n",
       "      <td>1.0</td>\n",
       "    </tr>\n",
       "    <tr>\n",
       "      <th>4</th>\n",
       "      <td>5008809</td>\n",
       "      <td>F</td>\n",
       "      <td>N</td>\n",
       "      <td>Y</td>\n",
       "      <td>0</td>\n",
       "      <td>270000.0</td>\n",
       "      <td>Commercial associate</td>\n",
       "      <td>Secondary / secondary special</td>\n",
       "      <td>Single / not married</td>\n",
       "      <td>House / apartment</td>\n",
       "      <td>-19110</td>\n",
       "      <td>-3051</td>\n",
       "      <td>1</td>\n",
       "      <td>0</td>\n",
       "      <td>1</td>\n",
       "      <td>1</td>\n",
       "      <td>Sales staff</td>\n",
       "      <td>1.0</td>\n",
       "    </tr>\n",
       "  </tbody>\n",
       "</table>\n",
       "</div>"
      ],
      "text/plain": [
       "        ID CODE_GENDER FLAG_OWN_CAR FLAG_OWN_REALTY  CNT_CHILDREN  \\\n",
       "0  5008804           M            Y               Y             0   \n",
       "1  5008805           M            Y               Y             0   \n",
       "2  5008806           M            Y               Y             0   \n",
       "3  5008808           F            N               Y             0   \n",
       "4  5008809           F            N               Y             0   \n",
       "\n",
       "   AMT_INCOME_TOTAL      NAME_INCOME_TYPE            NAME_EDUCATION_TYPE  \\\n",
       "0          427500.0               Working               Higher education   \n",
       "1          427500.0               Working               Higher education   \n",
       "2          112500.0               Working  Secondary / secondary special   \n",
       "3          270000.0  Commercial associate  Secondary / secondary special   \n",
       "4          270000.0  Commercial associate  Secondary / secondary special   \n",
       "\n",
       "     NAME_FAMILY_STATUS  NAME_HOUSING_TYPE  DAYS_BIRTH  DAYS_EMPLOYED  \\\n",
       "0        Civil marriage   Rented apartment      -12005          -4542   \n",
       "1        Civil marriage   Rented apartment      -12005          -4542   \n",
       "2               Married  House / apartment      -21474          -1134   \n",
       "3  Single / not married  House / apartment      -19110          -3051   \n",
       "4  Single / not married  House / apartment      -19110          -3051   \n",
       "\n",
       "   FLAG_MOBIL  FLAG_WORK_PHONE  FLAG_PHONE  FLAG_EMAIL OCCUPATION_TYPE  \\\n",
       "0           1                1           0           0             NaN   \n",
       "1           1                1           0           0             NaN   \n",
       "2           1                0           0           0  Security staff   \n",
       "3           1                0           1           1     Sales staff   \n",
       "4           1                0           1           1     Sales staff   \n",
       "\n",
       "   CNT_FAM_MEMBERS  \n",
       "0              2.0  \n",
       "1              2.0  \n",
       "2              2.0  \n",
       "3              1.0  \n",
       "4              1.0  "
      ]
     },
     "execution_count": 3,
     "metadata": {},
     "output_type": "execute_result"
    }
   ],
   "source": [
    "df.head()"
   ]
  },
  {
   "cell_type": "code",
   "execution_count": 4,
   "metadata": {
    "ExecuteTime": {
     "end_time": "2022-08-08T13:19:07.743740Z",
     "start_time": "2022-08-08T13:19:07.685742Z"
    }
   },
   "outputs": [
    {
     "name": "stdout",
     "output_type": "stream",
     "text": [
      "<class 'pandas.core.frame.DataFrame'>\n",
      "RangeIndex: 5001 entries, 0 to 5000\n",
      "Data columns (total 18 columns):\n",
      " #   Column               Non-Null Count  Dtype  \n",
      "---  ------               --------------  -----  \n",
      " 0   ID                   5001 non-null   int64  \n",
      " 1   CODE_GENDER          5001 non-null   object \n",
      " 2   FLAG_OWN_CAR         5001 non-null   object \n",
      " 3   FLAG_OWN_REALTY      5001 non-null   object \n",
      " 4   CNT_CHILDREN         5001 non-null   int64  \n",
      " 5   AMT_INCOME_TOTAL     5001 non-null   float64\n",
      " 6   NAME_INCOME_TYPE     5001 non-null   object \n",
      " 7   NAME_EDUCATION_TYPE  5001 non-null   object \n",
      " 8   NAME_FAMILY_STATUS   5001 non-null   object \n",
      " 9   NAME_HOUSING_TYPE    5001 non-null   object \n",
      " 10  DAYS_BIRTH           5001 non-null   int64  \n",
      " 11  DAYS_EMPLOYED        5001 non-null   int64  \n",
      " 12  FLAG_MOBIL           5001 non-null   int64  \n",
      " 13  FLAG_WORK_PHONE      5001 non-null   int64  \n",
      " 14  FLAG_PHONE           5001 non-null   int64  \n",
      " 15  FLAG_EMAIL           5001 non-null   int64  \n",
      " 16  OCCUPATION_TYPE      3485 non-null   object \n",
      " 17  CNT_FAM_MEMBERS      5001 non-null   float64\n",
      "dtypes: float64(2), int64(8), object(8)\n",
      "memory usage: 2.9 MB\n"
     ]
    }
   ],
   "source": [
    "df.info(memory_usage=\"deep\")"
   ]
  },
  {
   "cell_type": "markdown",
   "metadata": {
    "ExecuteTime": {
     "end_time": "2022-06-28T14:30:33.067492Z",
     "start_time": "2022-06-28T14:30:33.062489Z"
    }
   },
   "source": [
    "Also, passing ``deep=True`` will enable a more accurate memory usage report, that accounts for the full usage of the contained objects. This is because memory usage does not include memory consumed by elements that are not components of the array if ``deep=False`` (default case)."
   ]
  },
  {
   "cell_type": "code",
   "execution_count": 5,
   "metadata": {
    "ExecuteTime": {
     "end_time": "2022-08-08T13:19:07.777740Z",
     "start_time": "2022-08-08T13:19:07.747741Z"
    }
   },
   "outputs": [
    {
     "name": "stdout",
     "output_type": "stream",
     "text": [
      "2933.77734375 in KBs\n",
      "2.8650169372558594 in MBs\n"
     ]
    }
   ],
   "source": [
    "## Verificar o uso de memória\n",
    "mem_before = df.memory_usage(deep=True).sum()\n",
    "print('{} in KBs'.format(mem_before/1024))\n",
    "print('{} in MBs'.format(mem_before/1024/1024))"
   ]
  },
  {
   "cell_type": "markdown",
   "metadata": {},
   "source": [
    "# 2. Seleção Condicional"
   ]
  },
  {
   "cell_type": "code",
   "execution_count": 6,
   "metadata": {
    "ExecuteTime": {
     "end_time": "2022-08-08T13:19:08.799743Z",
     "start_time": "2022-08-08T13:19:08.776739Z"
    }
   },
   "outputs": [
    {
     "name": "stdout",
     "output_type": "stream",
     "text": [
      "<class 'pandas.core.frame.DataFrame'>\n",
      "RangeIndex: 5001 entries, 0 to 5000\n",
      "Data columns (total 18 columns):\n",
      " #   Column               Non-Null Count  Dtype  \n",
      "---  ------               --------------  -----  \n",
      " 0   ID                   5001 non-null   int64  \n",
      " 1   CODE_GENDER          5001 non-null   object \n",
      " 2   FLAG_OWN_CAR         5001 non-null   object \n",
      " 3   FLAG_OWN_REALTY      5001 non-null   object \n",
      " 4   CNT_CHILDREN         5001 non-null   int64  \n",
      " 5   AMT_INCOME_TOTAL     5001 non-null   float64\n",
      " 6   NAME_INCOME_TYPE     5001 non-null   object \n",
      " 7   NAME_EDUCATION_TYPE  5001 non-null   object \n",
      " 8   NAME_FAMILY_STATUS   5001 non-null   object \n",
      " 9   NAME_HOUSING_TYPE    5001 non-null   object \n",
      " 10  DAYS_BIRTH           5001 non-null   int64  \n",
      " 11  DAYS_EMPLOYED        5001 non-null   int64  \n",
      " 12  FLAG_MOBIL           5001 non-null   int64  \n",
      " 13  FLAG_WORK_PHONE      5001 non-null   int64  \n",
      " 14  FLAG_PHONE           5001 non-null   int64  \n",
      " 15  FLAG_EMAIL           5001 non-null   int64  \n",
      " 16  OCCUPATION_TYPE      3485 non-null   object \n",
      " 17  CNT_FAM_MEMBERS      5001 non-null   float64\n",
      "dtypes: float64(2), int64(8), object(8)\n",
      "memory usage: 703.4+ KB\n"
     ]
    }
   ],
   "source": [
    "df.info()"
   ]
  },
  {
   "cell_type": "code",
   "execution_count": 7,
   "metadata": {
    "ExecuteTime": {
     "end_time": "2022-08-08T13:19:09.215753Z",
     "start_time": "2022-08-08T13:19:09.205741Z"
    }
   },
   "outputs": [],
   "source": [
    "# Pegar todas as colunas objeto para category\n",
    "cols_cat = list(df.select_dtypes(include='object').columns)"
   ]
  },
  {
   "cell_type": "code",
   "execution_count": 8,
   "metadata": {
    "ExecuteTime": {
     "end_time": "2022-08-08T13:19:10.020744Z",
     "start_time": "2022-08-08T13:19:09.987742Z"
    }
   },
   "outputs": [],
   "source": [
    "# transformar todas as colunas object em category\n",
    "df[cols_cat] = df[cols_cat].astype('category')"
   ]
  },
  {
   "cell_type": "code",
   "execution_count": 9,
   "metadata": {
    "ExecuteTime": {
     "end_time": "2022-08-08T13:19:10.504741Z",
     "start_time": "2022-08-08T13:19:10.495743Z"
    }
   },
   "outputs": [],
   "source": [
    "# ID para categorico\n",
    "df['ID'] = df['ID'].astype('category')"
   ]
  },
  {
   "cell_type": "code",
   "execution_count": 10,
   "metadata": {
    "ExecuteTime": {
     "end_time": "2022-08-08T13:19:10.991848Z",
     "start_time": "2022-08-08T13:19:10.984742Z"
    }
   },
   "outputs": [],
   "source": [
    "## CNT_FAM_MEMBERS para inteiro\n",
    "df['CNT_FAM_MEMBERS'] = df['CNT_FAM_MEMBERS'].astype('int')"
   ]
  },
  {
   "cell_type": "code",
   "execution_count": 11,
   "metadata": {
    "ExecuteTime": {
     "end_time": "2022-08-08T13:19:11.422740Z",
     "start_time": "2022-08-08T13:19:11.397741Z"
    }
   },
   "outputs": [
    {
     "name": "stdout",
     "output_type": "stream",
     "text": [
      "<class 'pandas.core.frame.DataFrame'>\n",
      "RangeIndex: 5001 entries, 0 to 5000\n",
      "Data columns (total 18 columns):\n",
      " #   Column               Non-Null Count  Dtype   \n",
      "---  ------               --------------  -----   \n",
      " 0   ID                   5001 non-null   category\n",
      " 1   CODE_GENDER          5001 non-null   category\n",
      " 2   FLAG_OWN_CAR         5001 non-null   category\n",
      " 3   FLAG_OWN_REALTY      5001 non-null   category\n",
      " 4   CNT_CHILDREN         5001 non-null   int64   \n",
      " 5   AMT_INCOME_TOTAL     5001 non-null   float64 \n",
      " 6   NAME_INCOME_TYPE     5001 non-null   category\n",
      " 7   NAME_EDUCATION_TYPE  5001 non-null   category\n",
      " 8   NAME_FAMILY_STATUS   5001 non-null   category\n",
      " 9   NAME_HOUSING_TYPE    5001 non-null   category\n",
      " 10  DAYS_BIRTH           5001 non-null   int64   \n",
      " 11  DAYS_EMPLOYED        5001 non-null   int64   \n",
      " 12  FLAG_MOBIL           5001 non-null   int64   \n",
      " 13  FLAG_WORK_PHONE      5001 non-null   int64   \n",
      " 14  FLAG_PHONE           5001 non-null   int64   \n",
      " 15  FLAG_EMAIL           5001 non-null   int64   \n",
      " 16  OCCUPATION_TYPE      3485 non-null   category\n",
      " 17  CNT_FAM_MEMBERS      5001 non-null   int32   \n",
      "dtypes: category(9), float64(1), int32(1), int64(7)\n",
      "memory usage: 553.7 KB\n"
     ]
    }
   ],
   "source": [
    "df.info(memory_usage=\"deep\")"
   ]
  },
  {
   "cell_type": "code",
   "execution_count": 12,
   "metadata": {
    "ExecuteTime": {
     "end_time": "2022-08-08T13:19:11.801739Z",
     "start_time": "2022-08-08T13:19:11.790745Z"
    }
   },
   "outputs": [
    {
     "data": {
      "text/plain": [
       "564278"
      ]
     },
     "execution_count": 12,
     "metadata": {},
     "output_type": "execute_result"
    }
   ],
   "source": [
    "## Verificar o uso de memória\n",
    "mem_after = df.memory_usage().sum()\n",
    "mem_after"
   ]
  },
  {
   "cell_type": "code",
   "execution_count": 13,
   "metadata": {
    "ExecuteTime": {
     "end_time": "2022-08-08T13:19:12.168769Z",
     "start_time": "2022-08-08T13:19:12.160783Z"
    }
   },
   "outputs": [
    {
     "name": "stdout",
     "output_type": "stream",
     "text": [
      "2.6748046875 in KBs\n",
      "0.0026121139526367188 in MBs\n"
     ]
    }
   ],
   "source": [
    "mem_before = df.memory_usage(deep=True).sum()\n",
    "mem_reduce = mem_before - mem_after\n",
    "print('{} in KBs'.format(mem_reduce/1024))\n",
    "print('{} in MBs'.format(mem_reduce/1024/1024))"
   ]
  },
  {
   "cell_type": "code",
   "execution_count": 14,
   "metadata": {
    "ExecuteTime": {
     "end_time": "2022-08-08T13:19:12.731744Z",
     "start_time": "2022-08-08T13:19:12.714744Z"
    }
   },
   "outputs": [
    {
     "name": "stdout",
     "output_type": "stream",
     "text": [
      "<class 'pandas.core.frame.DataFrame'>\n",
      "RangeIndex: 5001 entries, 0 to 5000\n",
      "Data columns (total 18 columns):\n",
      " #   Column               Non-Null Count  Dtype   \n",
      "---  ------               --------------  -----   \n",
      " 0   ID                   5001 non-null   category\n",
      " 1   CODE_GENDER          5001 non-null   category\n",
      " 2   FLAG_OWN_CAR         5001 non-null   category\n",
      " 3   FLAG_OWN_REALTY      5001 non-null   category\n",
      " 4   CNT_CHILDREN         5001 non-null   int64   \n",
      " 5   AMT_INCOME_TOTAL     5001 non-null   float64 \n",
      " 6   NAME_INCOME_TYPE     5001 non-null   category\n",
      " 7   NAME_EDUCATION_TYPE  5001 non-null   category\n",
      " 8   NAME_FAMILY_STATUS   5001 non-null   category\n",
      " 9   NAME_HOUSING_TYPE    5001 non-null   category\n",
      " 10  DAYS_BIRTH           5001 non-null   int64   \n",
      " 11  DAYS_EMPLOYED        5001 non-null   int64   \n",
      " 12  FLAG_MOBIL           5001 non-null   int64   \n",
      " 13  FLAG_WORK_PHONE      5001 non-null   int64   \n",
      " 14  FLAG_PHONE           5001 non-null   int64   \n",
      " 15  FLAG_EMAIL           5001 non-null   int64   \n",
      " 16  OCCUPATION_TYPE      3485 non-null   category\n",
      " 17  CNT_FAM_MEMBERS      5001 non-null   int32   \n",
      "dtypes: category(9), float64(1), int32(1), int64(7)\n",
      "memory usage: 551.1 KB\n"
     ]
    }
   ],
   "source": [
    "## Verifique os tipos dos dados\n",
    "df.info()"
   ]
  },
  {
   "cell_type": "code",
   "execution_count": 15,
   "metadata": {
    "ExecuteTime": {
     "end_time": "2022-08-08T13:19:13.209746Z",
     "start_time": "2022-08-08T13:19:13.198741Z"
    }
   },
   "outputs": [
    {
     "data": {
      "text/plain": [
       "ID                        0\n",
       "CODE_GENDER               0\n",
       "FLAG_OWN_CAR              0\n",
       "FLAG_OWN_REALTY           0\n",
       "CNT_CHILDREN              0\n",
       "AMT_INCOME_TOTAL          0\n",
       "NAME_INCOME_TYPE          0\n",
       "NAME_EDUCATION_TYPE       0\n",
       "NAME_FAMILY_STATUS        0\n",
       "NAME_HOUSING_TYPE         0\n",
       "DAYS_BIRTH                0\n",
       "DAYS_EMPLOYED             0\n",
       "FLAG_MOBIL                0\n",
       "FLAG_WORK_PHONE           0\n",
       "FLAG_PHONE                0\n",
       "FLAG_EMAIL                0\n",
       "OCCUPATION_TYPE        1516\n",
       "CNT_FAM_MEMBERS           0\n",
       "dtype: int64"
      ]
     },
     "execution_count": 15,
     "metadata": {},
     "output_type": "execute_result"
    }
   ],
   "source": [
    "#verifique os dados nulos\n",
    "df.isna().sum()"
   ]
  },
  {
   "cell_type": "code",
   "execution_count": null,
   "metadata": {},
   "outputs": [],
   "source": []
  },
  {
   "cell_type": "code",
   "execution_count": null,
   "metadata": {},
   "outputs": [],
   "source": []
  },
  {
   "cell_type": "code",
   "execution_count": null,
   "metadata": {},
   "outputs": [],
   "source": []
  }
 ],
 "metadata": {
  "kernelspec": {
   "display_name": "Python 3 (ipykernel)",
   "language": "python",
   "name": "python3"
  },
  "language_info": {
   "codemirror_mode": {
    "name": "ipython",
    "version": 3
   },
   "file_extension": ".py",
   "mimetype": "text/x-python",
   "name": "python",
   "nbconvert_exporter": "python",
   "pygments_lexer": "ipython3",
   "version": "3.9.7"
  }
 },
 "nbformat": 4,
 "nbformat_minor": 4
}
