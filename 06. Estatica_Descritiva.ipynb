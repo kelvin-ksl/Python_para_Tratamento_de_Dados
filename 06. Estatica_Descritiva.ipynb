{
 "cells": [
  {
   "cell_type": "markdown",
   "metadata": {},
   "source": [
    "# Estatística descritiva\n",
    "- 1. Leitura de Dados\n",
    "- 2. Métodos estatísticos\n",
    "    - Máximo\n",
    "    - Mínimo\n",
    "    - Média\n",
    "    - Mediana\n",
    "    - Moda\n",
    "    - Desvio Padrão\n",
    "    - Amplitude\n",
    "    - Count\n",
    "    - Valores únicos\n",
    "    - Count valores únicos\n",
    "    - Somatório\n",
    "    - Quartis\n",
    "    - Describe()\n",
    "    - Covariança\n",
    "    - Correlação\n",
    "   \n",
    "<img src='https://pandas.pydata.org/docs/_images/05_newcolumn_1.svg'>"
   ]
  },
  {
   "cell_type": "code",
   "execution_count": 1,
   "metadata": {
    "ExecuteTime": {
     "end_time": "2022-08-08T13:22:54.259923Z",
     "start_time": "2022-08-08T13:22:53.563766Z"
    }
   },
   "outputs": [],
   "source": [
    "import pandas as pd\n",
    "import numpy as np\n",
    "from numpy.random import randn\n",
    "np.random.seed(101)"
   ]
  },
  {
   "cell_type": "markdown",
   "metadata": {},
   "source": [
    "## 1. Criando um DataFrame"
   ]
  },
  {
   "cell_type": "code",
   "execution_count": 4,
   "metadata": {
    "ExecuteTime": {
     "end_time": "2022-08-08T13:23:00.672387Z",
     "start_time": "2022-08-08T13:23:00.667361Z"
    }
   },
   "outputs": [],
   "source": [
    "df = pd.read_csv('data/sales_clear.csv')"
   ]
  },
  {
   "cell_type": "code",
   "execution_count": 5,
   "metadata": {
    "ExecuteTime": {
     "end_time": "2022-08-08T13:23:00.924355Z",
     "start_time": "2022-08-08T13:23:00.894393Z"
    }
   },
   "outputs": [
    {
     "data": {
      "text/html": [
       "<div>\n",
       "<style scoped>\n",
       "    .dataframe tbody tr th:only-of-type {\n",
       "        vertical-align: middle;\n",
       "    }\n",
       "\n",
       "    .dataframe tbody tr th {\n",
       "        vertical-align: top;\n",
       "    }\n",
       "\n",
       "    .dataframe thead th {\n",
       "        text-align: right;\n",
       "    }\n",
       "</style>\n",
       "<table border=\"1\" class=\"dataframe\">\n",
       "  <thead>\n",
       "    <tr style=\"text-align: right;\">\n",
       "      <th></th>\n",
       "      <th>Start_Date</th>\n",
       "      <th>Customer Number</th>\n",
       "      <th>Customer Name</th>\n",
       "      <th>2016</th>\n",
       "      <th>2017</th>\n",
       "      <th>Percent Growth</th>\n",
       "      <th>Jan Units</th>\n",
       "      <th>Active</th>\n",
       "    </tr>\n",
       "  </thead>\n",
       "  <tbody>\n",
       "    <tr>\n",
       "      <th>0</th>\n",
       "      <td>2015-01-10</td>\n",
       "      <td>10002</td>\n",
       "      <td>Quest Industries</td>\n",
       "      <td>125000.0</td>\n",
       "      <td>162500.0</td>\n",
       "      <td>0.30</td>\n",
       "      <td>500.0</td>\n",
       "      <td>True</td>\n",
       "    </tr>\n",
       "    <tr>\n",
       "      <th>1</th>\n",
       "      <td>2014-06-15</td>\n",
       "      <td>552278</td>\n",
       "      <td>Smith Plumbing</td>\n",
       "      <td>920000.0</td>\n",
       "      <td>1012000.0</td>\n",
       "      <td>0.10</td>\n",
       "      <td>700.0</td>\n",
       "      <td>True</td>\n",
       "    </tr>\n",
       "    <tr>\n",
       "      <th>2</th>\n",
       "      <td>2016-03-29</td>\n",
       "      <td>23477</td>\n",
       "      <td>ACME Industrial</td>\n",
       "      <td>50000.0</td>\n",
       "      <td>62500.0</td>\n",
       "      <td>0.25</td>\n",
       "      <td>125.0</td>\n",
       "      <td>True</td>\n",
       "    </tr>\n",
       "    <tr>\n",
       "      <th>3</th>\n",
       "      <td>2015-10-27</td>\n",
       "      <td>24900</td>\n",
       "      <td>Brekke LTD</td>\n",
       "      <td>350000.0</td>\n",
       "      <td>490000.0</td>\n",
       "      <td>0.04</td>\n",
       "      <td>75.0</td>\n",
       "      <td>True</td>\n",
       "    </tr>\n",
       "    <tr>\n",
       "      <th>4</th>\n",
       "      <td>2014-02-02</td>\n",
       "      <td>651029</td>\n",
       "      <td>Harbor Co</td>\n",
       "      <td>15000.0</td>\n",
       "      <td>12750.0</td>\n",
       "      <td>-0.15</td>\n",
       "      <td>NaN</td>\n",
       "      <td>False</td>\n",
       "    </tr>\n",
       "  </tbody>\n",
       "</table>\n",
       "</div>"
      ],
      "text/plain": [
       "   Start_Date  Customer Number     Customer Name      2016       2017  \\\n",
       "0  2015-01-10            10002  Quest Industries  125000.0   162500.0   \n",
       "1  2014-06-15           552278    Smith Plumbing  920000.0  1012000.0   \n",
       "2  2016-03-29            23477   ACME Industrial   50000.0    62500.0   \n",
       "3  2015-10-27            24900        Brekke LTD  350000.0   490000.0   \n",
       "4  2014-02-02           651029         Harbor Co   15000.0    12750.0   \n",
       "\n",
       "   Percent Growth  Jan Units  Active  \n",
       "0            0.30      500.0    True  \n",
       "1            0.10      700.0    True  \n",
       "2            0.25      125.0    True  \n",
       "3            0.04       75.0    True  \n",
       "4           -0.15        NaN   False  "
      ]
     },
     "execution_count": 5,
     "metadata": {},
     "output_type": "execute_result"
    }
   ],
   "source": [
    "df.head(5)"
   ]
  },
  {
   "cell_type": "markdown",
   "metadata": {},
   "source": [
    "## 2. Métodos estatísticos"
   ]
  },
  {
   "cell_type": "markdown",
   "metadata": {},
   "source": [
    "**Valor Máximo**"
   ]
  },
  {
   "cell_type": "code",
   "execution_count": 6,
   "metadata": {
    "ExecuteTime": {
     "end_time": "2022-08-08T13:23:01.594356Z",
     "start_time": "2022-08-08T13:23:01.586393Z"
    }
   },
   "outputs": [
    {
     "data": {
      "text/plain": [
       "Start_Date             2016-03-29\n",
       "Customer Number            651029\n",
       "Customer Name      Smith Plumbing\n",
       "2016                     920000.0\n",
       "2017                    1012000.0\n",
       "Percent Growth                0.3\n",
       "Jan Units                   700.0\n",
       "Active                       True\n",
       "dtype: object"
      ]
     },
     "execution_count": 6,
     "metadata": {},
     "output_type": "execute_result"
    }
   ],
   "source": [
    "df.max()"
   ]
  },
  {
   "cell_type": "markdown",
   "metadata": {
    "ExecuteTime": {
     "end_time": "2022-06-29T16:58:24.356432Z",
     "start_time": "2022-06-29T16:58:24.351435Z"
    }
   },
   "source": [
    "**Valor Mínimo**"
   ]
  },
  {
   "cell_type": "code",
   "execution_count": 7,
   "metadata": {
    "ExecuteTime": {
     "end_time": "2022-08-08T13:23:01.928358Z",
     "start_time": "2022-08-08T13:23:01.921395Z"
    }
   },
   "outputs": [
    {
     "data": {
      "text/plain": [
       "Start_Date              2014-02-02\n",
       "Customer Number              10002\n",
       "Customer Name      ACME Industrial\n",
       "2016                       15000.0\n",
       "2017                       12750.0\n",
       "Percent Growth               -0.15\n",
       "Jan Units                     75.0\n",
       "Active                       False\n",
       "dtype: object"
      ]
     },
     "execution_count": 7,
     "metadata": {},
     "output_type": "execute_result"
    }
   ],
   "source": [
    "df.min()"
   ]
  },
  {
   "cell_type": "markdown",
   "metadata": {},
   "source": [
    "**Desvio Padrão**"
   ]
  },
  {
   "cell_type": "code",
   "execution_count": 8,
   "metadata": {
    "ExecuteTime": {
     "end_time": "2022-08-08T13:23:02.299361Z",
     "start_time": "2022-08-08T13:23:02.290360Z"
    }
   },
   "outputs": [
    {
     "data": {
      "text/plain": [
       "Customer Number    320838.999788\n",
       "2016               374476.300986\n",
       "2017               415142.460488\n",
       "Percent Growth          0.179081\n",
       "Jan Units             300.693643\n",
       "Active                  0.447214\n",
       "dtype: float64"
      ]
     },
     "execution_count": 8,
     "metadata": {},
     "output_type": "execute_result"
    }
   ],
   "source": [
    "df.std(numeric_only=True)"
   ]
  },
  {
   "cell_type": "markdown",
   "metadata": {
    "ExecuteTime": {
     "end_time": "2022-06-29T16:58:56.966950Z",
     "start_time": "2022-06-29T16:58:56.959941Z"
    }
   },
   "source": [
    "**Count**"
   ]
  },
  {
   "cell_type": "code",
   "execution_count": 9,
   "metadata": {
    "ExecuteTime": {
     "end_time": "2022-08-08T13:23:02.665397Z",
     "start_time": "2022-08-08T13:23:02.658358Z"
    }
   },
   "outputs": [
    {
     "data": {
      "text/plain": [
       "Start_Date         5\n",
       "Customer Number    5\n",
       "Customer Name      5\n",
       "2016               5\n",
       "2017               5\n",
       "Percent Growth     5\n",
       "Jan Units          4\n",
       "Active             5\n",
       "dtype: int64"
      ]
     },
     "execution_count": 9,
     "metadata": {},
     "output_type": "execute_result"
    }
   ],
   "source": [
    "df.count()"
   ]
  },
  {
   "cell_type": "markdown",
   "metadata": {},
   "source": [
    "**Somatório**"
   ]
  },
  {
   "cell_type": "code",
   "execution_count": 10,
   "metadata": {
    "ExecuteTime": {
     "end_time": "2022-08-08T13:23:03.068357Z",
     "start_time": "2022-08-08T13:23:03.060390Z"
    }
   },
   "outputs": [
    {
     "data": {
      "text/plain": [
       "Customer Number    1261686.00\n",
       "2016               1460000.00\n",
       "2017               1739750.00\n",
       "Percent Growth           0.54\n",
       "Jan Units             1400.00\n",
       "Active                   4.00\n",
       "dtype: float64"
      ]
     },
     "execution_count": 10,
     "metadata": {},
     "output_type": "execute_result"
    }
   ],
   "source": [
    "df.sum(numeric_only=True)"
   ]
  },
  {
   "cell_type": "markdown",
   "metadata": {},
   "source": [
    "**Counte elementos únicos**"
   ]
  },
  {
   "cell_type": "code",
   "execution_count": 11,
   "metadata": {
    "ExecuteTime": {
     "end_time": "2022-08-08T13:23:03.421362Z",
     "start_time": "2022-08-08T13:23:03.412360Z"
    }
   },
   "outputs": [
    {
     "data": {
      "text/plain": [
       "Start_Date         5\n",
       "Customer Number    5\n",
       "Customer Name      5\n",
       "2016               5\n",
       "2017               5\n",
       "Percent Growth     5\n",
       "Jan Units          4\n",
       "Active             2\n",
       "dtype: int64"
      ]
     },
     "execution_count": 11,
     "metadata": {},
     "output_type": "execute_result"
    }
   ],
   "source": [
    "df.nunique()"
   ]
  },
  {
   "cell_type": "markdown",
   "metadata": {},
   "source": [
    "**Liste os elementos únicos**"
   ]
  },
  {
   "cell_type": "code",
   "execution_count": 12,
   "metadata": {
    "ExecuteTime": {
     "end_time": "2022-08-08T13:23:03.794362Z",
     "start_time": "2022-08-08T13:23:03.789359Z"
    }
   },
   "outputs": [
    {
     "data": {
      "text/plain": [
       "array(['Quest Industries', 'Smith Plumbing', 'ACME Industrial',\n",
       "       'Brekke LTD', 'Harbor Co'], dtype=object)"
      ]
     },
     "execution_count": 12,
     "metadata": {},
     "output_type": "execute_result"
    }
   ],
   "source": [
    "df['Customer Name'].unique()"
   ]
  },
  {
   "cell_type": "markdown",
   "metadata": {},
   "source": [
    "**Counte o valor de cada classe**"
   ]
  },
  {
   "cell_type": "code",
   "execution_count": 13,
   "metadata": {
    "ExecuteTime": {
     "end_time": "2022-08-08T13:23:04.171366Z",
     "start_time": "2022-08-08T13:23:04.163383Z"
    }
   },
   "outputs": [
    {
     "data": {
      "text/plain": [
       "Customer Name   \n",
       "ACME Industrial     1\n",
       "Brekke LTD          1\n",
       "Harbor Co           1\n",
       "Quest Industries    1\n",
       "Smith Plumbing      1\n",
       "dtype: int64"
      ]
     },
     "execution_count": 13,
     "metadata": {},
     "output_type": "execute_result"
    }
   ],
   "source": [
    "df.value_counts(subset=['Customer Name'])"
   ]
  },
  {
   "cell_type": "code",
   "execution_count": 14,
   "metadata": {
    "ExecuteTime": {
     "end_time": "2022-08-08T13:23:04.385360Z",
     "start_time": "2022-08-08T13:23:04.378394Z"
    }
   },
   "outputs": [
    {
     "data": {
      "text/plain": [
       "Quest Industries    1\n",
       "Smith Plumbing      1\n",
       "ACME Industrial     1\n",
       "Brekke LTD          1\n",
       "Harbor Co           1\n",
       "Name: Customer Name, dtype: int64"
      ]
     },
     "execution_count": 14,
     "metadata": {},
     "output_type": "execute_result"
    }
   ],
   "source": [
    "df['Customer Name'].value_counts()"
   ]
  },
  {
   "cell_type": "markdown",
   "metadata": {},
   "source": [
    "**Mediana**"
   ]
  },
  {
   "cell_type": "code",
   "execution_count": 15,
   "metadata": {
    "ExecuteTime": {
     "end_time": "2022-08-08T13:23:04.788359Z",
     "start_time": "2022-08-08T13:23:04.779389Z"
    }
   },
   "outputs": [
    {
     "data": {
      "text/plain": [
       "Customer Number     24900.0\n",
       "2016               125000.0\n",
       "2017               162500.0\n",
       "Percent Growth          0.1\n",
       "Jan Units             312.5\n",
       "Active                  1.0\n",
       "dtype: float64"
      ]
     },
     "execution_count": 15,
     "metadata": {},
     "output_type": "execute_result"
    }
   ],
   "source": [
    "df.median(numeric_only=True)"
   ]
  },
  {
   "cell_type": "markdown",
   "metadata": {},
   "source": [
    "**Moda**"
   ]
  },
  {
   "cell_type": "code",
   "execution_count": 16,
   "metadata": {
    "ExecuteTime": {
     "end_time": "2022-08-08T13:23:05.295387Z",
     "start_time": "2022-08-08T13:23:05.275372Z"
    }
   },
   "outputs": [
    {
     "data": {
      "text/html": [
       "<div>\n",
       "<style scoped>\n",
       "    .dataframe tbody tr th:only-of-type {\n",
       "        vertical-align: middle;\n",
       "    }\n",
       "\n",
       "    .dataframe tbody tr th {\n",
       "        vertical-align: top;\n",
       "    }\n",
       "\n",
       "    .dataframe thead th {\n",
       "        text-align: right;\n",
       "    }\n",
       "</style>\n",
       "<table border=\"1\" class=\"dataframe\">\n",
       "  <thead>\n",
       "    <tr style=\"text-align: right;\">\n",
       "      <th></th>\n",
       "      <th>Start_Date</th>\n",
       "      <th>Customer Number</th>\n",
       "      <th>Customer Name</th>\n",
       "      <th>2016</th>\n",
       "      <th>2017</th>\n",
       "      <th>Percent Growth</th>\n",
       "      <th>Jan Units</th>\n",
       "      <th>Active</th>\n",
       "    </tr>\n",
       "  </thead>\n",
       "  <tbody>\n",
       "    <tr>\n",
       "      <th>0</th>\n",
       "      <td>2014-02-02</td>\n",
       "      <td>10002</td>\n",
       "      <td>ACME Industrial</td>\n",
       "      <td>15000.0</td>\n",
       "      <td>12750.0</td>\n",
       "      <td>-0.15</td>\n",
       "      <td>75.0</td>\n",
       "      <td>True</td>\n",
       "    </tr>\n",
       "    <tr>\n",
       "      <th>1</th>\n",
       "      <td>2014-06-15</td>\n",
       "      <td>23477</td>\n",
       "      <td>Brekke LTD</td>\n",
       "      <td>50000.0</td>\n",
       "      <td>62500.0</td>\n",
       "      <td>0.04</td>\n",
       "      <td>125.0</td>\n",
       "      <td>NaN</td>\n",
       "    </tr>\n",
       "    <tr>\n",
       "      <th>2</th>\n",
       "      <td>2015-01-10</td>\n",
       "      <td>24900</td>\n",
       "      <td>Harbor Co</td>\n",
       "      <td>125000.0</td>\n",
       "      <td>162500.0</td>\n",
       "      <td>0.10</td>\n",
       "      <td>500.0</td>\n",
       "      <td>NaN</td>\n",
       "    </tr>\n",
       "    <tr>\n",
       "      <th>3</th>\n",
       "      <td>2015-10-27</td>\n",
       "      <td>552278</td>\n",
       "      <td>Quest Industries</td>\n",
       "      <td>350000.0</td>\n",
       "      <td>490000.0</td>\n",
       "      <td>0.25</td>\n",
       "      <td>700.0</td>\n",
       "      <td>NaN</td>\n",
       "    </tr>\n",
       "    <tr>\n",
       "      <th>4</th>\n",
       "      <td>2016-03-29</td>\n",
       "      <td>651029</td>\n",
       "      <td>Smith Plumbing</td>\n",
       "      <td>920000.0</td>\n",
       "      <td>1012000.0</td>\n",
       "      <td>0.30</td>\n",
       "      <td>NaN</td>\n",
       "      <td>NaN</td>\n",
       "    </tr>\n",
       "  </tbody>\n",
       "</table>\n",
       "</div>"
      ],
      "text/plain": [
       "   Start_Date  Customer Number     Customer Name      2016       2017  \\\n",
       "0  2014-02-02            10002   ACME Industrial   15000.0    12750.0   \n",
       "1  2014-06-15            23477        Brekke LTD   50000.0    62500.0   \n",
       "2  2015-01-10            24900         Harbor Co  125000.0   162500.0   \n",
       "3  2015-10-27           552278  Quest Industries  350000.0   490000.0   \n",
       "4  2016-03-29           651029    Smith Plumbing  920000.0  1012000.0   \n",
       "\n",
       "   Percent Growth  Jan Units Active  \n",
       "0           -0.15       75.0   True  \n",
       "1            0.04      125.0    NaN  \n",
       "2            0.10      500.0    NaN  \n",
       "3            0.25      700.0    NaN  \n",
       "4            0.30        NaN    NaN  "
      ]
     },
     "execution_count": 16,
     "metadata": {},
     "output_type": "execute_result"
    }
   ],
   "source": [
    "df.mode()"
   ]
  },
  {
   "cell_type": "code",
   "execution_count": 17,
   "metadata": {
    "ExecuteTime": {
     "end_time": "2022-08-08T13:23:05.528388Z",
     "start_time": "2022-08-08T13:23:05.521357Z"
    }
   },
   "outputs": [
    {
     "data": {
      "text/plain": [
       "0     ACME Industrial\n",
       "1          Brekke LTD\n",
       "2           Harbor Co\n",
       "3    Quest Industries\n",
       "4      Smith Plumbing\n",
       "dtype: object"
      ]
     },
     "execution_count": 17,
     "metadata": {},
     "output_type": "execute_result"
    }
   ],
   "source": [
    "df['Customer Name'].mode()"
   ]
  },
  {
   "cell_type": "markdown",
   "metadata": {},
   "source": [
    "**Quartis**"
   ]
  },
  {
   "cell_type": "code",
   "execution_count": 18,
   "metadata": {
    "ExecuteTime": {
     "end_time": "2022-08-08T13:23:05.916372Z",
     "start_time": "2022-08-08T13:23:05.904358Z"
    }
   },
   "outputs": [
    {
     "data": {
      "text/plain": [
       "Customer Number     24900.0\n",
       "2016               125000.0\n",
       "2017               162500.0\n",
       "Percent Growth          0.1\n",
       "Jan Units             312.5\n",
       "Active                  1.0\n",
       "Name: 0.5, dtype: float64"
      ]
     },
     "execution_count": 18,
     "metadata": {},
     "output_type": "execute_result"
    }
   ],
   "source": [
    "df.quantile(q=0.5)"
   ]
  },
  {
   "cell_type": "markdown",
   "metadata": {},
   "source": [
    "**Retorna os dados normalizados considerando N-1**"
   ]
  },
  {
   "cell_type": "code",
   "execution_count": 19,
   "metadata": {
    "ExecuteTime": {
     "end_time": "2022-08-08T13:23:06.321390Z",
     "start_time": "2022-08-08T13:23:06.312363Z"
    }
   },
   "outputs": [
    {
     "data": {
      "text/plain": [
       "Customer Number    0.660770\n",
       "2016               1.648651\n",
       "2017               1.330057\n",
       "Percent Growth    -0.547559\n",
       "Jan Units          0.344825\n",
       "Active            -2.236068\n",
       "dtype: float64"
      ]
     },
     "execution_count": 19,
     "metadata": {},
     "output_type": "execute_result"
    }
   ],
   "source": [
    "df.skew(numeric_only=True)"
   ]
  },
  {
   "cell_type": "markdown",
   "metadata": {},
   "source": [
    "**Retorne um sumário estatístico com os dados**"
   ]
  },
  {
   "cell_type": "code",
   "execution_count": 20,
   "metadata": {
    "ExecuteTime": {
     "end_time": "2022-08-08T13:23:06.715362Z",
     "start_time": "2022-08-08T13:23:06.691356Z"
    }
   },
   "outputs": [
    {
     "data": {
      "text/html": [
       "<div>\n",
       "<style scoped>\n",
       "    .dataframe tbody tr th:only-of-type {\n",
       "        vertical-align: middle;\n",
       "    }\n",
       "\n",
       "    .dataframe tbody tr th {\n",
       "        vertical-align: top;\n",
       "    }\n",
       "\n",
       "    .dataframe thead th {\n",
       "        text-align: right;\n",
       "    }\n",
       "</style>\n",
       "<table border=\"1\" class=\"dataframe\">\n",
       "  <thead>\n",
       "    <tr style=\"text-align: right;\">\n",
       "      <th></th>\n",
       "      <th>Customer Number</th>\n",
       "      <th>2016</th>\n",
       "      <th>2017</th>\n",
       "      <th>Percent Growth</th>\n",
       "      <th>Jan Units</th>\n",
       "    </tr>\n",
       "  </thead>\n",
       "  <tbody>\n",
       "    <tr>\n",
       "      <th>count</th>\n",
       "      <td>5.000000</td>\n",
       "      <td>5.000000</td>\n",
       "      <td>5.000000e+00</td>\n",
       "      <td>5.000000</td>\n",
       "      <td>4.000000</td>\n",
       "    </tr>\n",
       "    <tr>\n",
       "      <th>mean</th>\n",
       "      <td>252337.200000</td>\n",
       "      <td>292000.000000</td>\n",
       "      <td>3.479500e+05</td>\n",
       "      <td>0.108000</td>\n",
       "      <td>350.000000</td>\n",
       "    </tr>\n",
       "    <tr>\n",
       "      <th>std</th>\n",
       "      <td>320838.999788</td>\n",
       "      <td>374476.300986</td>\n",
       "      <td>4.151425e+05</td>\n",
       "      <td>0.179081</td>\n",
       "      <td>300.693643</td>\n",
       "    </tr>\n",
       "    <tr>\n",
       "      <th>min</th>\n",
       "      <td>10002.000000</td>\n",
       "      <td>15000.000000</td>\n",
       "      <td>1.275000e+04</td>\n",
       "      <td>-0.150000</td>\n",
       "      <td>75.000000</td>\n",
       "    </tr>\n",
       "    <tr>\n",
       "      <th>25%</th>\n",
       "      <td>23477.000000</td>\n",
       "      <td>50000.000000</td>\n",
       "      <td>6.250000e+04</td>\n",
       "      <td>0.040000</td>\n",
       "      <td>112.500000</td>\n",
       "    </tr>\n",
       "    <tr>\n",
       "      <th>50%</th>\n",
       "      <td>24900.000000</td>\n",
       "      <td>125000.000000</td>\n",
       "      <td>1.625000e+05</td>\n",
       "      <td>0.100000</td>\n",
       "      <td>312.500000</td>\n",
       "    </tr>\n",
       "    <tr>\n",
       "      <th>75%</th>\n",
       "      <td>552278.000000</td>\n",
       "      <td>350000.000000</td>\n",
       "      <td>4.900000e+05</td>\n",
       "      <td>0.250000</td>\n",
       "      <td>550.000000</td>\n",
       "    </tr>\n",
       "    <tr>\n",
       "      <th>max</th>\n",
       "      <td>651029.000000</td>\n",
       "      <td>920000.000000</td>\n",
       "      <td>1.012000e+06</td>\n",
       "      <td>0.300000</td>\n",
       "      <td>700.000000</td>\n",
       "    </tr>\n",
       "  </tbody>\n",
       "</table>\n",
       "</div>"
      ],
      "text/plain": [
       "       Customer Number           2016          2017  Percent Growth  \\\n",
       "count         5.000000       5.000000  5.000000e+00        5.000000   \n",
       "mean     252337.200000  292000.000000  3.479500e+05        0.108000   \n",
       "std      320838.999788  374476.300986  4.151425e+05        0.179081   \n",
       "min       10002.000000   15000.000000  1.275000e+04       -0.150000   \n",
       "25%       23477.000000   50000.000000  6.250000e+04        0.040000   \n",
       "50%       24900.000000  125000.000000  1.625000e+05        0.100000   \n",
       "75%      552278.000000  350000.000000  4.900000e+05        0.250000   \n",
       "max      651029.000000  920000.000000  1.012000e+06        0.300000   \n",
       "\n",
       "        Jan Units  \n",
       "count    4.000000  \n",
       "mean   350.000000  \n",
       "std    300.693643  \n",
       "min     75.000000  \n",
       "25%    112.500000  \n",
       "50%    312.500000  \n",
       "75%    550.000000  \n",
       "max    700.000000  "
      ]
     },
     "execution_count": 20,
     "metadata": {},
     "output_type": "execute_result"
    }
   ],
   "source": [
    "df.describe()"
   ]
  },
  {
   "cell_type": "markdown",
   "metadata": {},
   "source": [
    "**Retorne várias estatísticas personalizadas usando o ``agg()``**"
   ]
  },
  {
   "cell_type": "code",
   "execution_count": 21,
   "metadata": {
    "ExecuteTime": {
     "end_time": "2022-08-08T13:23:07.108359Z",
     "start_time": "2022-08-08T13:23:07.097359Z"
    }
   },
   "outputs": [
    {
     "data": {
      "text/html": [
       "<div>\n",
       "<style scoped>\n",
       "    .dataframe tbody tr th:only-of-type {\n",
       "        vertical-align: middle;\n",
       "    }\n",
       "\n",
       "    .dataframe tbody tr th {\n",
       "        vertical-align: top;\n",
       "    }\n",
       "\n",
       "    .dataframe thead th {\n",
       "        text-align: right;\n",
       "    }\n",
       "</style>\n",
       "<table border=\"1\" class=\"dataframe\">\n",
       "  <thead>\n",
       "    <tr style=\"text-align: right;\">\n",
       "      <th></th>\n",
       "      <th>2016</th>\n",
       "      <th>2017</th>\n",
       "    </tr>\n",
       "  </thead>\n",
       "  <tbody>\n",
       "    <tr>\n",
       "      <th>mean</th>\n",
       "      <td>292000.0</td>\n",
       "      <td>347950.0</td>\n",
       "    </tr>\n",
       "    <tr>\n",
       "      <th>max</th>\n",
       "      <td>920000.0</td>\n",
       "      <td>1012000.0</td>\n",
       "    </tr>\n",
       "    <tr>\n",
       "      <th>min</th>\n",
       "      <td>15000.0</td>\n",
       "      <td>12750.0</td>\n",
       "    </tr>\n",
       "  </tbody>\n",
       "</table>\n",
       "</div>"
      ],
      "text/plain": [
       "          2016       2017\n",
       "mean  292000.0   347950.0\n",
       "max   920000.0  1012000.0\n",
       "min    15000.0    12750.0"
      ]
     },
     "execution_count": 21,
     "metadata": {},
     "output_type": "execute_result"
    }
   ],
   "source": [
    "df.agg({'2016':['mean','max','min'], \n",
    "       '2017':['mean','max','min']})"
   ]
  },
  {
   "cell_type": "markdown",
   "metadata": {},
   "source": [
    "**Covariança**"
   ]
  },
  {
   "cell_type": "code",
   "execution_count": 22,
   "metadata": {
    "ExecuteTime": {
     "end_time": "2022-08-08T13:23:07.568361Z",
     "start_time": "2022-08-08T13:23:07.558361Z"
    }
   },
   "outputs": [
    {
     "data": {
      "text/html": [
       "<div>\n",
       "<style scoped>\n",
       "    .dataframe tbody tr th:only-of-type {\n",
       "        vertical-align: middle;\n",
       "    }\n",
       "\n",
       "    .dataframe tbody tr th {\n",
       "        vertical-align: top;\n",
       "    }\n",
       "\n",
       "    .dataframe thead th {\n",
       "        text-align: right;\n",
       "    }\n",
       "</style>\n",
       "<table border=\"1\" class=\"dataframe\">\n",
       "  <thead>\n",
       "    <tr style=\"text-align: right;\">\n",
       "      <th></th>\n",
       "      <th>2016</th>\n",
       "      <th>2017</th>\n",
       "    </tr>\n",
       "  </thead>\n",
       "  <tbody>\n",
       "    <tr>\n",
       "      <th>2016</th>\n",
       "      <td>1.402325e+11</td>\n",
       "      <td>1.545404e+11</td>\n",
       "    </tr>\n",
       "    <tr>\n",
       "      <th>2017</th>\n",
       "      <td>1.545404e+11</td>\n",
       "      <td>1.723433e+11</td>\n",
       "    </tr>\n",
       "  </tbody>\n",
       "</table>\n",
       "</div>"
      ],
      "text/plain": [
       "              2016          2017\n",
       "2016  1.402325e+11  1.545404e+11\n",
       "2017  1.545404e+11  1.723433e+11"
      ]
     },
     "execution_count": 22,
     "metadata": {},
     "output_type": "execute_result"
    }
   ],
   "source": [
    "df[['2016','2017']].cov()"
   ]
  },
  {
   "cell_type": "markdown",
   "metadata": {},
   "source": [
    "**Medindo a correlação entre variáveis**"
   ]
  },
  {
   "cell_type": "code",
   "execution_count": 23,
   "metadata": {
    "ExecuteTime": {
     "end_time": "2022-08-08T13:23:08.162396Z",
     "start_time": "2022-08-08T13:23:08.140366Z"
    }
   },
   "outputs": [
    {
     "data": {
      "text/html": [
       "<div>\n",
       "<style scoped>\n",
       "    .dataframe tbody tr th:only-of-type {\n",
       "        vertical-align: middle;\n",
       "    }\n",
       "\n",
       "    .dataframe tbody tr th {\n",
       "        vertical-align: top;\n",
       "    }\n",
       "\n",
       "    .dataframe thead th {\n",
       "        text-align: right;\n",
       "    }\n",
       "</style>\n",
       "<table border=\"1\" class=\"dataframe\">\n",
       "  <thead>\n",
       "    <tr style=\"text-align: right;\">\n",
       "      <th></th>\n",
       "      <th>Customer Number</th>\n",
       "      <th>2016</th>\n",
       "      <th>2017</th>\n",
       "      <th>Percent Growth</th>\n",
       "      <th>Jan Units</th>\n",
       "      <th>Active</th>\n",
       "    </tr>\n",
       "  </thead>\n",
       "  <tbody>\n",
       "    <tr>\n",
       "      <th>Customer Number</th>\n",
       "      <td>1.000000</td>\n",
       "      <td>0.334150</td>\n",
       "      <td>0.269337</td>\n",
       "      <td>-0.734572</td>\n",
       "      <td>0.759853</td>\n",
       "      <td>-0.694665</td>\n",
       "    </tr>\n",
       "    <tr>\n",
       "      <th>2016</th>\n",
       "      <td>0.334150</td>\n",
       "      <td>1.000000</td>\n",
       "      <td>0.994078</td>\n",
       "      <td>-0.014651</td>\n",
       "      <td>0.656752</td>\n",
       "      <td>0.413505</td>\n",
       "    </tr>\n",
       "    <tr>\n",
       "      <th>2017</th>\n",
       "      <td>0.269337</td>\n",
       "      <td>0.994078</td>\n",
       "      <td>1.000000</td>\n",
       "      <td>-0.015571</td>\n",
       "      <td>0.595440</td>\n",
       "      <td>0.451369</td>\n",
       "    </tr>\n",
       "    <tr>\n",
       "      <th>Percent Growth</th>\n",
       "      <td>-0.734572</td>\n",
       "      <td>-0.014651</td>\n",
       "      <td>-0.015571</td>\n",
       "      <td>1.000000</td>\n",
       "      <td>0.115307</td>\n",
       "      <td>0.805370</td>\n",
       "    </tr>\n",
       "    <tr>\n",
       "      <th>Jan Units</th>\n",
       "      <td>0.759853</td>\n",
       "      <td>0.656752</td>\n",
       "      <td>0.595440</td>\n",
       "      <td>0.115307</td>\n",
       "      <td>1.000000</td>\n",
       "      <td>NaN</td>\n",
       "    </tr>\n",
       "    <tr>\n",
       "      <th>Active</th>\n",
       "      <td>-0.694665</td>\n",
       "      <td>0.413505</td>\n",
       "      <td>0.451369</td>\n",
       "      <td>0.805370</td>\n",
       "      <td>NaN</td>\n",
       "      <td>1.000000</td>\n",
       "    </tr>\n",
       "  </tbody>\n",
       "</table>\n",
       "</div>"
      ],
      "text/plain": [
       "                 Customer Number      2016      2017  Percent Growth  \\\n",
       "Customer Number         1.000000  0.334150  0.269337       -0.734572   \n",
       "2016                    0.334150  1.000000  0.994078       -0.014651   \n",
       "2017                    0.269337  0.994078  1.000000       -0.015571   \n",
       "Percent Growth         -0.734572 -0.014651 -0.015571        1.000000   \n",
       "Jan Units               0.759853  0.656752  0.595440        0.115307   \n",
       "Active                 -0.694665  0.413505  0.451369        0.805370   \n",
       "\n",
       "                 Jan Units    Active  \n",
       "Customer Number   0.759853 -0.694665  \n",
       "2016              0.656752  0.413505  \n",
       "2017              0.595440  0.451369  \n",
       "Percent Growth    0.115307  0.805370  \n",
       "Jan Units         1.000000       NaN  \n",
       "Active                 NaN  1.000000  "
      ]
     },
     "execution_count": 23,
     "metadata": {},
     "output_type": "execute_result"
    }
   ],
   "source": [
    "df.corr()"
   ]
  },
  {
   "cell_type": "code",
   "execution_count": 24,
   "metadata": {
    "ExecuteTime": {
     "end_time": "2022-08-08T13:23:08.454433Z",
     "start_time": "2022-08-08T13:23:08.442404Z"
    }
   },
   "outputs": [
    {
     "data": {
      "text/html": [
       "<div>\n",
       "<style scoped>\n",
       "    .dataframe tbody tr th:only-of-type {\n",
       "        vertical-align: middle;\n",
       "    }\n",
       "\n",
       "    .dataframe tbody tr th {\n",
       "        vertical-align: top;\n",
       "    }\n",
       "\n",
       "    .dataframe thead th {\n",
       "        text-align: right;\n",
       "    }\n",
       "</style>\n",
       "<table border=\"1\" class=\"dataframe\">\n",
       "  <thead>\n",
       "    <tr style=\"text-align: right;\">\n",
       "      <th></th>\n",
       "      <th>2016</th>\n",
       "      <th>2017</th>\n",
       "    </tr>\n",
       "  </thead>\n",
       "  <tbody>\n",
       "    <tr>\n",
       "      <th>2016</th>\n",
       "      <td>1.000000</td>\n",
       "      <td>0.994078</td>\n",
       "    </tr>\n",
       "    <tr>\n",
       "      <th>2017</th>\n",
       "      <td>0.994078</td>\n",
       "      <td>1.000000</td>\n",
       "    </tr>\n",
       "  </tbody>\n",
       "</table>\n",
       "</div>"
      ],
      "text/plain": [
       "          2016      2017\n",
       "2016  1.000000  0.994078\n",
       "2017  0.994078  1.000000"
      ]
     },
     "execution_count": 24,
     "metadata": {},
     "output_type": "execute_result"
    }
   ],
   "source": [
    "df[['2016','2017']].corr()"
   ]
  },
  {
   "cell_type": "code",
   "execution_count": 25,
   "metadata": {
    "ExecuteTime": {
     "end_time": "2022-08-08T13:23:08.745403Z",
     "start_time": "2022-08-08T13:23:08.731403Z"
    }
   },
   "outputs": [
    {
     "data": {
      "text/html": [
       "<div>\n",
       "<style scoped>\n",
       "    .dataframe tbody tr th:only-of-type {\n",
       "        vertical-align: middle;\n",
       "    }\n",
       "\n",
       "    .dataframe tbody tr th {\n",
       "        vertical-align: top;\n",
       "    }\n",
       "\n",
       "    .dataframe thead th {\n",
       "        text-align: right;\n",
       "    }\n",
       "</style>\n",
       "<table border=\"1\" class=\"dataframe\">\n",
       "  <thead>\n",
       "    <tr style=\"text-align: right;\">\n",
       "      <th></th>\n",
       "      <th>2016</th>\n",
       "      <th>2017</th>\n",
       "    </tr>\n",
       "  </thead>\n",
       "  <tbody>\n",
       "    <tr>\n",
       "      <th>2016</th>\n",
       "      <td>1.0</td>\n",
       "      <td>1.0</td>\n",
       "    </tr>\n",
       "    <tr>\n",
       "      <th>2017</th>\n",
       "      <td>1.0</td>\n",
       "      <td>1.0</td>\n",
       "    </tr>\n",
       "  </tbody>\n",
       "</table>\n",
       "</div>"
      ],
      "text/plain": [
       "      2016  2017\n",
       "2016   1.0   1.0\n",
       "2017   1.0   1.0"
      ]
     },
     "execution_count": 25,
     "metadata": {},
     "output_type": "execute_result"
    }
   ],
   "source": [
    "df[['2016','2017']].corr(method='spearman')"
   ]
  },
  {
   "cell_type": "code",
   "execution_count": null,
   "metadata": {
    "ExecuteTime": {
     "end_time": "2022-06-29T17:08:54.104045Z",
     "start_time": "2022-06-29T17:08:54.085298Z"
    }
   },
   "outputs": [],
   "source": []
  },
  {
   "cell_type": "code",
   "execution_count": null,
   "metadata": {},
   "outputs": [],
   "source": []
  },
  {
   "cell_type": "code",
   "execution_count": null,
   "metadata": {},
   "outputs": [],
   "source": []
  }
 ],
 "metadata": {
  "kernelspec": {
   "display_name": "Python 3 (ipykernel)",
   "language": "python",
   "name": "python3"
  },
  "language_info": {
   "codemirror_mode": {
    "name": "ipython",
    "version": 3
   },
   "file_extension": ".py",
   "mimetype": "text/x-python",
   "name": "python",
   "nbconvert_exporter": "python",
   "pygments_lexer": "ipython3",
   "version": "3.9.7"
  }
 },
 "nbformat": 4,
 "nbformat_minor": 2
}
