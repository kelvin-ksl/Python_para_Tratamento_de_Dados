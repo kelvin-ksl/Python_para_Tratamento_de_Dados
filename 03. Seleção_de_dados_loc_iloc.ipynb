{
 "cells": [
  {
   "cell_type": "markdown",
   "metadata": {},
   "source": [
    "# Seleção de Dados usando Pandas\n",
    "\n",
    "<img src='https://pandas.pydata.org/docs/_images/03_subset_rows.svg'>\n",
    "\n",
    "- Resumo\n",
    "    - 1. Criando e apresentando um Dataframe\n",
    "    - 2. Seleção de Dados\n",
    "    - 3. Seleção Condicional\n",
    "    - 4. Seleção por Tipos\n",
    "    - 5. Seleção a partir de uma lista"
   ]
  },
  {
   "cell_type": "code",
   "execution_count": null,
   "metadata": {
    "ExecuteTime": {
     "end_time": "2022-08-08T12:29:49.488054Z",
     "start_time": "2022-08-08T12:29:48.725958Z"
    }
   },
   "outputs": [],
   "source": [
    "import numpy as np\n",
    "import pandas as pd\n",
    "import random\n",
    "\n",
    "from numpy.random import randn\n",
    "np.random.seed(101)"
   ]
  },
  {
   "cell_type": "markdown",
   "metadata": {},
   "source": [
    "## 1. Criando e apresentando DataFrame"
   ]
  },
  {
   "cell_type": "code",
   "execution_count": null,
   "metadata": {
    "ExecuteTime": {
     "end_time": "2022-08-08T12:29:49.495052Z",
     "start_time": "2022-08-08T12:29:49.490052Z"
    }
   },
   "outputs": [],
   "source": [
    "df = pd.DataFrame(randn(20,4),columns='W X Y Z'.split())"
   ]
  },
  {
   "cell_type": "code",
   "execution_count": null,
   "metadata": {
    "ExecuteTime": {
     "end_time": "2022-08-08T12:29:49.520086Z",
     "start_time": "2022-08-08T12:29:49.499052Z"
    }
   },
   "outputs": [],
   "source": [
    "df.head(5)"
   ]
  },
  {
   "cell_type": "code",
   "execution_count": null,
   "metadata": {
    "ExecuteTime": {
     "end_time": "2022-08-08T12:29:49.533056Z",
     "start_time": "2022-08-08T12:29:49.522052Z"
    }
   },
   "outputs": [],
   "source": [
    "df.tail()"
   ]
  },
  {
   "cell_type": "code",
   "execution_count": null,
   "metadata": {
    "ExecuteTime": {
     "end_time": "2022-08-08T12:29:49.553053Z",
     "start_time": "2022-08-08T12:29:49.535053Z"
    }
   },
   "outputs": [],
   "source": [
    "df.sample(10)"
   ]
  },
  {
   "cell_type": "code",
   "execution_count": null,
   "metadata": {
    "ExecuteTime": {
     "end_time": "2022-08-08T12:29:49.573051Z",
     "start_time": "2022-08-08T12:29:49.555053Z"
    }
   },
   "outputs": [],
   "source": [
    "df.sample(frac=0.3)"
   ]
  },
  {
   "cell_type": "markdown",
   "metadata": {},
   "source": [
    "## 2. Seleção de Dados\n",
    "\n",
    "Vamos aprender os vários métodos para pegar dados de um DataFrame\n",
    "\n",
    "Existem três abordagens principais de seleção de dados usando um dataframe\n",
    "- 1. Selecionando colunas\n",
    "- 2. Seleção de dados usando `loc` e `iloc`\n",
    "- 3. Seleção condicional\n",
    "- 4. Seleção de dados por tipo de dados"
   ]
  },
  {
   "cell_type": "code",
   "execution_count": null,
   "metadata": {
    "ExecuteTime": {
     "end_time": "2022-08-08T12:29:49.582052Z",
     "start_time": "2022-08-08T12:29:49.575054Z"
    }
   },
   "outputs": [],
   "source": [
    "df.index"
   ]
  },
  {
   "cell_type": "code",
   "execution_count": null,
   "metadata": {
    "ExecuteTime": {
     "end_time": "2022-08-08T12:29:49.591053Z",
     "start_time": "2022-08-08T12:29:49.584056Z"
    }
   },
   "outputs": [],
   "source": [
    "df.columns"
   ]
  },
  {
   "cell_type": "code",
   "execution_count": null,
   "metadata": {
    "ExecuteTime": {
     "end_time": "2022-08-08T12:29:49.611053Z",
     "start_time": "2022-08-08T12:29:49.594052Z"
    }
   },
   "outputs": [],
   "source": [
    "df"
   ]
  },
  {
   "cell_type": "markdown",
   "metadata": {},
   "source": [
    "#### 2.1 Selecionar uma coluna"
   ]
  },
  {
   "cell_type": "code",
   "execution_count": null,
   "metadata": {
    "ExecuteTime": {
     "end_time": "2022-08-08T12:29:49.621052Z",
     "start_time": "2022-08-08T12:29:49.613054Z"
    }
   },
   "outputs": [],
   "source": [
    "df['W']"
   ]
  },
  {
   "cell_type": "code",
   "execution_count": null,
   "metadata": {
    "ExecuteTime": {
     "end_time": "2022-08-02T18:08:09.965482Z",
     "start_time": "2022-08-02T18:08:09.957437Z"
    }
   },
   "outputs": [],
   "source": [
    "# Sintaxe SQL (Não recomendado!)\n",
    "df.W"
   ]
  },
  {
   "cell_type": "markdown",
   "metadata": {},
   "source": [
    "#### Selecionar mais de uma coluna"
   ]
  },
  {
   "cell_type": "code",
   "execution_count": null,
   "metadata": {
    "ExecuteTime": {
     "end_time": "2022-08-02T18:09:51.836572Z",
     "start_time": "2022-08-02T18:09:51.825037Z"
    }
   },
   "outputs": [],
   "source": [
    "# Passando uma lista com nomes das colunas\n",
    "df[['W','Z']]"
   ]
  },
  {
   "cell_type": "code",
   "execution_count": null,
   "metadata": {
    "ExecuteTime": {
     "end_time": "2022-08-02T18:09:59.509485Z",
     "start_time": "2022-08-02T18:09:59.503523Z"
    }
   },
   "outputs": [],
   "source": [
    "type(df['W'])"
   ]
  },
  {
   "cell_type": "markdown",
   "metadata": {},
   "source": [
    "As colunas dos DataFrames são Series"
   ]
  },
  {
   "cell_type": "markdown",
   "metadata": {},
   "source": [
    "### 2.1 Seleção com loc e Iloc"
   ]
  },
  {
   "cell_type": "code",
   "execution_count": null,
   "metadata": {
    "ExecuteTime": {
     "end_time": "2022-08-02T18:10:04.490808Z",
     "start_time": "2022-08-02T18:10:04.480801Z"
    }
   },
   "outputs": [],
   "source": [
    "df.head()"
   ]
  },
  {
   "cell_type": "markdown",
   "metadata": {},
   "source": [
    "O método ``loc`` faz seleção usando o index do data frame, tanto para linha como para coluna. \n",
    "\n",
    "``df.loc[rows, cols]``"
   ]
  },
  {
   "cell_type": "code",
   "execution_count": null,
   "metadata": {
    "ExecuteTime": {
     "end_time": "2022-08-02T18:11:30.892141Z",
     "start_time": "2022-08-02T18:11:30.881145Z"
    }
   },
   "outputs": [],
   "source": [
    "df.loc[5:10]"
   ]
  },
  {
   "cell_type": "code",
   "execution_count": null,
   "metadata": {
    "ExecuteTime": {
     "end_time": "2022-08-02T18:11:53.421550Z",
     "start_time": "2022-08-02T18:11:53.405551Z"
    }
   },
   "outputs": [],
   "source": [
    "df.loc[10:12, ['X','Z']]"
   ]
  },
  {
   "cell_type": "code",
   "execution_count": null,
   "metadata": {
    "ExecuteTime": {
     "end_time": "2022-08-02T18:13:05.585553Z",
     "start_time": "2022-08-02T18:13:05.573545Z"
    }
   },
   "outputs": [],
   "source": [
    "df"
   ]
  },
  {
   "cell_type": "markdown",
   "metadata": {
    "ExecuteTime": {
     "end_time": "2022-04-24T18:13:38.620881Z",
     "start_time": "2022-04-24T18:13:38.614882Z"
    }
   },
   "source": [
    "O método ``iloc`` faz seleção usando a posição dos dados no data frame, tanto para linha como para coluna. "
   ]
  },
  {
   "cell_type": "code",
   "execution_count": null,
   "metadata": {
    "ExecuteTime": {
     "end_time": "2022-08-02T18:13:00.068117Z",
     "start_time": "2022-08-02T18:13:00.061114Z"
    }
   },
   "outputs": [],
   "source": [
    "df.iloc[2]"
   ]
  },
  {
   "cell_type": "code",
   "execution_count": null,
   "metadata": {
    "ExecuteTime": {
     "end_time": "2022-08-02T18:13:33.857272Z",
     "start_time": "2022-08-02T18:13:33.848274Z"
    }
   },
   "outputs": [],
   "source": [
    "df.iloc[5:10]"
   ]
  },
  {
   "cell_type": "code",
   "execution_count": null,
   "metadata": {
    "ExecuteTime": {
     "end_time": "2022-08-02T18:14:43.996031Z",
     "start_time": "2022-08-02T18:14:43.989028Z"
    }
   },
   "outputs": [],
   "source": [
    "df.iloc[5:10, 2]"
   ]
  },
  {
   "cell_type": "markdown",
   "metadata": {},
   "source": [
    "#### Diferenciando LOC x ILOC"
   ]
  },
  {
   "cell_type": "code",
   "execution_count": null,
   "metadata": {
    "ExecuteTime": {
     "end_time": "2022-08-02T18:15:34.490996Z",
     "start_time": "2022-08-02T18:15:34.485008Z"
    }
   },
   "outputs": [],
   "source": [
    "n_rows = df.shape[0]\n",
    "meses = ['jan', 'fev', 'mar', 'abr', 'mai', 'jun', 'jul', 'ago', 'out', 'nov', 'dez'] * 2\n",
    "df['mes'] = random.sample(meses, n_rows)"
   ]
  },
  {
   "cell_type": "code",
   "execution_count": null,
   "metadata": {
    "ExecuteTime": {
     "end_time": "2022-08-02T18:15:43.719718Z",
     "start_time": "2022-08-02T18:15:43.704717Z"
    }
   },
   "outputs": [],
   "source": [
    "df"
   ]
  },
  {
   "cell_type": "code",
   "execution_count": null,
   "metadata": {
    "ExecuteTime": {
     "end_time": "2022-08-02T18:16:14.088787Z",
     "start_time": "2022-08-02T18:16:14.075051Z"
    }
   },
   "outputs": [],
   "source": [
    "%%time\n",
    "df.set_index('mes', inplace=True)"
   ]
  },
  {
   "cell_type": "code",
   "execution_count": null,
   "metadata": {
    "ExecuteTime": {
     "end_time": "2022-08-02T18:16:14.723873Z",
     "start_time": "2022-08-02T18:16:14.714868Z"
    }
   },
   "outputs": [],
   "source": [
    "df.head()"
   ]
  },
  {
   "cell_type": "code",
   "execution_count": null,
   "metadata": {
    "ExecuteTime": {
     "end_time": "2022-08-02T18:17:00.016409Z",
     "start_time": "2022-08-02T18:17:00.005408Z"
    }
   },
   "outputs": [],
   "source": [
    "df.loc['fev', ['X','W']]"
   ]
  },
  {
   "cell_type": "code",
   "execution_count": null,
   "metadata": {
    "ExecuteTime": {
     "end_time": "2022-08-02T18:17:13.618091Z",
     "start_time": "2022-08-02T18:17:13.612086Z"
    }
   },
   "outputs": [],
   "source": [
    "df.reset_index(inplace=True)"
   ]
  },
  {
   "cell_type": "markdown",
   "metadata": {},
   "source": [
    "### 2.2 Seleção condicional\n",
    "\n",
    "Uma característica importante dos pandas é a seleção condicional usando notação de colchetes, muito semelhante ao numpy:"
   ]
  },
  {
   "cell_type": "code",
   "execution_count": null,
   "metadata": {
    "ExecuteTime": {
     "end_time": "2022-08-02T18:17:32.127562Z",
     "start_time": "2022-08-02T18:17:32.117534Z"
    }
   },
   "outputs": [],
   "source": [
    "df.head()"
   ]
  },
  {
   "cell_type": "code",
   "execution_count": null,
   "metadata": {
    "ExecuteTime": {
     "end_time": "2022-08-02T18:18:08.569453Z",
     "start_time": "2022-08-02T18:18:08.564418Z"
    }
   },
   "outputs": [],
   "source": [
    "filter_W_positivo = df['W'] > 0\n",
    "filter_W_negativo = df['W'] < 0"
   ]
  },
  {
   "cell_type": "code",
   "execution_count": null,
   "metadata": {
    "ExecuteTime": {
     "end_time": "2022-08-02T18:18:33.264943Z",
     "start_time": "2022-08-02T18:18:33.253929Z"
    }
   },
   "outputs": [],
   "source": [
    "df[filter_W_positivo]"
   ]
  },
  {
   "cell_type": "markdown",
   "metadata": {},
   "source": [
    "Para duas condições, você pode usar ``|`` e ``&`` com parênteses:"
   ]
  },
  {
   "cell_type": "code",
   "execution_count": null,
   "metadata": {
    "ExecuteTime": {
     "end_time": "2022-08-02T18:20:56.726846Z",
     "start_time": "2022-08-02T18:20:56.720843Z"
    }
   },
   "outputs": [],
   "source": [
    "filter_W_Y_positivo = (df['W']>0) & (df['Y'] > 0)"
   ]
  },
  {
   "cell_type": "code",
   "execution_count": null,
   "metadata": {
    "ExecuteTime": {
     "end_time": "2022-08-02T18:20:57.284897Z",
     "start_time": "2022-08-02T18:20:57.274840Z"
    }
   },
   "outputs": [],
   "source": [
    "df[filter_W_Y_positivo]"
   ]
  },
  {
   "cell_type": "markdown",
   "metadata": {
    "ExecuteTime": {
     "end_time": "2022-04-24T18:28:48.458249Z",
     "start_time": "2022-04-24T18:28:48.446709Z"
    }
   },
   "source": [
    "Você pode selecionar dados fazendo verificações de dados de texto baseado em regex"
   ]
  },
  {
   "cell_type": "code",
   "execution_count": null,
   "metadata": {
    "ExecuteTime": {
     "end_time": "2022-08-02T18:22:11.841099Z",
     "start_time": "2022-08-02T18:22:11.829064Z"
    }
   },
   "outputs": [],
   "source": [
    "df[df['mes'].str.contains('a')]"
   ]
  },
  {
   "cell_type": "markdown",
   "metadata": {},
   "source": [
    "Mêses que começa com a ``letra a``"
   ]
  },
  {
   "cell_type": "code",
   "execution_count": null,
   "metadata": {
    "ExecuteTime": {
     "end_time": "2022-08-02T18:23:07.789105Z",
     "start_time": "2022-08-02T18:23:07.778145Z"
    }
   },
   "outputs": [],
   "source": [
    "df[df['mes'].str.contains('^a')]"
   ]
  },
  {
   "cell_type": "code",
   "execution_count": null,
   "metadata": {
    "ExecuteTime": {
     "end_time": "2022-08-02T18:23:20.086490Z",
     "start_time": "2022-08-02T18:23:20.075543Z"
    }
   },
   "outputs": [],
   "source": [
    "df[df['mes'].str.contains('^[a-z]')]"
   ]
  },
  {
   "cell_type": "markdown",
   "metadata": {},
   "source": [
    "### 2.3 Seleção por tipos de dados"
   ]
  },
  {
   "cell_type": "code",
   "execution_count": null,
   "metadata": {
    "ExecuteTime": {
     "end_time": "2022-08-02T18:24:18.685381Z",
     "start_time": "2022-08-02T18:24:18.680350Z"
    }
   },
   "outputs": [],
   "source": [
    "df['J'] = df['W'].astype(int)"
   ]
  },
  {
   "cell_type": "code",
   "execution_count": null,
   "metadata": {
    "ExecuteTime": {
     "end_time": "2022-08-02T18:24:22.854018Z",
     "start_time": "2022-08-02T18:24:22.842016Z"
    }
   },
   "outputs": [],
   "source": [
    "df.info()"
   ]
  },
  {
   "cell_type": "code",
   "execution_count": null,
   "metadata": {
    "ExecuteTime": {
     "end_time": "2022-08-02T18:25:19.607838Z",
     "start_time": "2022-08-02T18:25:19.590838Z"
    }
   },
   "outputs": [],
   "source": [
    "df.select_dtypes(exclude=['object','int'])"
   ]
  },
  {
   "cell_type": "code",
   "execution_count": null,
   "metadata": {
    "ExecuteTime": {
     "end_time": "2022-08-02T18:24:52.944195Z",
     "start_time": "2022-08-02T18:24:52.931233Z"
    }
   },
   "outputs": [],
   "source": [
    "df.select_dtypes(include='int')"
   ]
  },
  {
   "cell_type": "code",
   "execution_count": null,
   "metadata": {
    "ExecuteTime": {
     "end_time": "2022-08-02T18:24:55.734703Z",
     "start_time": "2022-08-02T18:24:55.720577Z"
    }
   },
   "outputs": [],
   "source": [
    "df.select_dtypes(include='float')"
   ]
  },
  {
   "cell_type": "markdown",
   "metadata": {},
   "source": [
    "### 2.4 Seleção a partir de uma lista de valores"
   ]
  },
  {
   "cell_type": "code",
   "execution_count": null,
   "metadata": {
    "ExecuteTime": {
     "end_time": "2022-08-02T18:25:42.268280Z",
     "start_time": "2022-08-02T18:25:42.264240Z"
    }
   },
   "outputs": [],
   "source": [
    "lista_mes = ['jun', 'fev', 'jul']"
   ]
  },
  {
   "cell_type": "code",
   "execution_count": null,
   "metadata": {
    "ExecuteTime": {
     "end_time": "2022-08-02T18:26:32.810108Z",
     "start_time": "2022-08-02T18:26:32.786073Z"
    }
   },
   "outputs": [],
   "source": [
    "df[df['mes'].isin(lista_mes)]"
   ]
  },
  {
   "cell_type": "code",
   "execution_count": null,
   "metadata": {},
   "outputs": [],
   "source": []
  }
 ],
 "metadata": {
  "kernelspec": {
   "display_name": "Python 3 (ipykernel)",
   "language": "python",
   "name": "python3"
  },
  "language_info": {
   "codemirror_mode": {
    "name": "ipython",
    "version": 3
   },
   "file_extension": ".py",
   "mimetype": "text/x-python",
   "name": "python",
   "nbconvert_exporter": "python",
   "pygments_lexer": "ipython3",
   "version": "3.9.7"
  }
 },
 "nbformat": 4,
 "nbformat_minor": 2
}
