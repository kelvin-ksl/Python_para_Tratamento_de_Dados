{
 "cells": [
  {
   "cell_type": "markdown",
   "id": "ca29b781",
   "metadata": {
    "id": "ca29b781"
   },
   "source": [
    "# Atividade de Pandas -\n",
    "#### Conteúdo: \n",
    "- Series"
   ]
  },
  {
   "cell_type": "code",
   "execution_count": 1,
   "id": "cZ6lFNCw2xFA",
   "metadata": {
    "id": "cZ6lFNCw2xFA"
   },
   "outputs": [],
   "source": [
    "import numpy as np\n",
    "import pandas as pd\n",
    "import random"
   ]
  },
  {
   "cell_type": "markdown",
   "id": "35fb200c",
   "metadata": {
    "id": "35fb200c"
   },
   "source": [
    "**1) Crie uma Series com o nome de cinco pessoas que você conhece, onde o index é a idade dessas pessoas**"
   ]
  },
  {
   "cell_type": "code",
   "execution_count": 17,
   "id": "f66407e2",
   "metadata": {
    "colab": {
     "base_uri": "https://localhost:8080/"
    },
    "id": "f66407e2",
    "outputId": "62772053-e303-4f39-b47a-ace08992b3e6"
   },
   "outputs": [
    {
     "data": {
      "text/plain": [
       "20        Ana\n",
       "34      Natan\n",
       "46    Daniele\n",
       "30     Daiane\n",
       "5        Jose\n",
       "dtype: object"
      ]
     },
     "execution_count": 17,
     "metadata": {},
     "output_type": "execute_result"
    }
   ],
   "source": [
    "pessoas = pd.Series(['Ana', 'Natan', 'Daniele', 'Daiane', 'Jose'], index = [20, 34, 46, 30, 5])\n",
    "pessoas\n"
   ]
  },
  {
   "cell_type": "markdown",
   "id": "f05c40c7",
   "metadata": {
    "id": "f05c40c7"
   },
   "source": [
    "**2) Escreva um programa que irá converter um Numpy Array para uma Series**"
   ]
  },
  {
   "cell_type": "code",
   "execution_count": 21,
   "id": "ce44130e",
   "metadata": {
    "ExecuteTime": {
     "end_time": "2022-06-29T12:29:57.488627Z",
     "start_time": "2022-06-29T12:29:57.482630Z"
    },
    "colab": {
     "base_uri": "https://localhost:8080/"
    },
    "id": "ce44130e",
    "outputId": "8c30287f-266b-4459-fdec-811fd2cb10c6"
   },
   "outputs": [
    {
     "name": "stdout",
     "output_type": "stream",
     "text": [
      "NumPy Data Array is:\n",
      "[[27 44 77]\n",
      " [75 65 47]\n",
      " [30 84 86]\n",
      " [18  9 41]]\n",
      "\n",
      "The DataFrame generated from the NumPy array is:\n",
      "    0   1   2\n",
      "0  27  44  77\n",
      "1  75  65  47\n",
      "2  30  84  86\n",
      "3  18   9  41\n"
     ]
    }
   ],
   "source": [
    "from numpy import random\n",
    "random.seed(5)\n",
    "random.randint(100, size=(3, 5))\n",
    "data_array = random.randint(100, size=(4, 3))\n",
    "\n",
    "print(\"NumPy Data Array is:\")\n",
    "print(data_array)\n",
    "\n",
    "print(\"\")\n",
    "\n",
    "data_df = pd.DataFrame(data_array)\n",
    "print(\"The DataFrame generated from the NumPy array is:\")\n",
    "print(data_df)"
   ]
  },
  {
   "cell_type": "markdown",
   "id": "51b50b68",
   "metadata": {
    "id": "51b50b68"
   },
   "source": [
    "**3) Escreva um programa que irá converter uma Series para um array**"
   ]
  },
  {
   "cell_type": "code",
   "execution_count": 24,
   "id": "b7556847",
   "metadata": {
    "colab": {
     "base_uri": "https://localhost:8080/"
    },
    "id": "b7556847",
    "outputId": "73eac1c3-262d-4722-a6fe-5942a13c5413"
   },
   "outputs": [
    {
     "name": "stdout",
     "output_type": "stream",
     "text": [
      "[20 34 46 30  5]\n"
     ]
    }
   ],
   "source": [
    "pessoas = pd.Series(['Ana', 'Natan', 'Daniele', 'Daiane', 'Jose'], index = [20, 34, 46, 30, 5])\n",
    "array = np.array(pessoas.index.values)\n",
    "print(array)"
   ]
  },
  {
   "cell_type": "markdown",
   "id": "71003097",
   "metadata": {
    "id": "71003097"
   },
   "source": [
    "**4) Implemente uma programa usando Python que cálcula a idade média, o desvio padrão, o somatório, os valores máximo e mínimos de uma series**"
   ]
  },
  {
   "cell_type": "code",
   "execution_count": 36,
   "id": "fde8b5c0",
   "metadata": {
    "ExecuteTime": {
     "end_time": "2022-06-29T12:29:01.120113Z",
     "start_time": "2022-06-29T12:29:01.115115Z"
    },
    "id": "fde8b5c0"
   },
   "outputs": [],
   "source": [
    "s = pd.Series([0, 5, 6, 14, 20, 25, 2, 50, 30, 9])"
   ]
  },
  {
   "cell_type": "code",
   "execution_count": 37,
   "id": "QmRquxf0DQXV",
   "metadata": {
    "colab": {
     "base_uri": "https://localhost:8080/"
    },
    "id": "QmRquxf0DQXV",
    "outputId": "d6bad09c-3111-4db9-9d14-0e0f9f44bd70"
   },
   "outputs": [
    {
     "data": {
      "text/plain": [
       "count    10.000000\n",
       "mean     16.100000\n",
       "std      15.545274\n",
       "min       0.000000\n",
       "25%       5.250000\n",
       "50%      11.500000\n",
       "75%      23.750000\n",
       "max      50.000000\n",
       "dtype: float64"
      ]
     },
     "execution_count": 37,
     "metadata": {},
     "output_type": "execute_result"
    }
   ],
   "source": [
    "s.describe()"
   ]
  },
  {
   "cell_type": "code",
   "execution_count": 38,
   "id": "esg9NJ3-iiCd",
   "metadata": {
    "colab": {
     "base_uri": "https://localhost:8080/"
    },
    "id": "esg9NJ3-iiCd",
    "outputId": "e1b3fca0-6c1d-408a-a9a2-9142ab262c4a"
   },
   "outputs": [
    {
     "name": "stdout",
     "output_type": "stream",
     "text": [
      "soma dos valores  161\n"
     ]
    }
   ],
   "source": [
    "print('soma dos valores ', sum(s))"
   ]
  },
  {
   "cell_type": "markdown",
   "id": "063d44e1",
   "metadata": {
    "id": "063d44e1"
   },
   "source": [
    "**5) Escreva um programa que irá ordenar uma Series**"
   ]
  },
  {
   "cell_type": "code",
   "execution_count": 39,
   "id": "b73b8452",
   "metadata": {
    "ExecuteTime": {
     "end_time": "2022-06-29T12:31:10.397180Z",
     "start_time": "2022-06-29T12:31:10.387418Z"
    },
    "colab": {
     "base_uri": "https://localhost:8080/"
    },
    "id": "b73b8452",
    "outputId": "b73627c8-0684-4d36-bab4-c23c9029e63c"
   },
   "outputs": [
    {
     "data": {
      "text/plain": [
       "7    50\n",
       "8    30\n",
       "5    25\n",
       "4    20\n",
       "3    14\n",
       "9     9\n",
       "2     6\n",
       "1     5\n",
       "6     2\n",
       "0     0\n",
       "dtype: int64"
      ]
     },
     "execution_count": 39,
     "metadata": {},
     "output_type": "execute_result"
    }
   ],
   "source": [
    "s.sort_values(ascending=False)"
   ]
  },
  {
   "cell_type": "code",
   "execution_count": null,
   "id": "1d63c3ec",
   "metadata": {
    "id": "1d63c3ec"
   },
   "outputs": [],
   "source": []
  }
 ],
 "metadata": {
  "colab": {
   "collapsed_sections": [],
   "name": "Atividade01. Series-blank.ipynb",
   "provenance": []
  },
  "kernelspec": {
   "display_name": "Python 3 (ipykernel)",
   "language": "python",
   "name": "python3"
  },
  "language_info": {
   "codemirror_mode": {
    "name": "ipython",
    "version": 3
   },
   "file_extension": ".py",
   "mimetype": "text/x-python",
   "name": "python",
   "nbconvert_exporter": "python",
   "pygments_lexer": "ipython3",
   "version": "3.9.12"
  }
 },
 "nbformat": 4,
 "nbformat_minor": 5
}
